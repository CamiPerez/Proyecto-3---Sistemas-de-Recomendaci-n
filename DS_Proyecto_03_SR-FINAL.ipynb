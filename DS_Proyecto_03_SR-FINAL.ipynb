{
 "cells": [
  {
   "cell_type": "markdown",
   "metadata": {
    "id": "gzJLet17WTzh"
   },
   "source": [
    "# Proyecto 03 - Sistemas de Recomendación\n",
    "\n",
    "## Dataset: STEAM\n",
    "\n",
    "**Recuerda descargar el dataset de [aquí](https://github.com/kang205/SASRec). Son dos archivos, uno de calificaciones y otro de información sobre los juegos.**\n",
    "\n",
    "En este notebook te dejamos unas celdas para que puedas comenzar a trabajar con este dataset. Sin embargo, **deberás** modificarlas para hacer un mejor manejo de datos. Algunas cosas a las que deberás prestar atención (tal vez no a todas):\n",
    "1. Tipos de datos: elige tipos de datos apropiados para cada columna.\n",
    "2. Descartar columnas poco informativas.\n",
    "3. Guardar en memoria datasets preprocesados para no tener que repetir código que tarde en correr.\n",
    "\n",
    "### Exploración de datos\n",
    "\n",
    "Dedícale un buen tiempo a hacer un Análisis Exploratorio de Datos. Elige preguntas que creas que puedas responder con este dataset. Por ejemplo, ¿cuáles son los juegos más populares?¿Y los menos populares?\n",
    "\n",
    "### Filtro Colaborativo\n",
    "\n",
    "Deberás implementar un sistema de recomendación colaborativo para este dataset. Ten en cuenta:\n",
    "\n",
    "1. Haz todas las transformaciones de datos que consideres necesarias. Justifica.\n",
    "1. Evalúa de forma apropiada sus resultados. Justifica la métrica elegida.\n",
    "1. Elige un modelo benchmark y compara tus resultados con este modelo.\n",
    "1. Optimiza los hiperparámetros de tu modelo.\n",
    "\n",
    "Puedes implementar un filtro colaborativo a partir de la similitud coseno o índice de Jaccard. ¿Puedes utilizar los métodos de la librería Surprise? Si no es así, busca implementaciones (por ejemplo, nuevas librerías) que sean apropiadas.\n",
    "\n",
    "Para comenzar a trabajar, puedes asumir que cada entrada es un enlace entre una persona usuaria y un item, **independientemente** de si la crítica es buena o mala. \n",
    "\n",
    "### Para pensar, investigar y, opcionalmente, implementar\n",
    "1. ¿Cómo harías para ponerle un valor a la calificación?\n",
    "1. ¿Cómo harías para agregar contenido? Por ejemplo, cuentas con el género, precio, fecha de lanzamiento y más información de los juegos.\n",
    "1. ¿Hay algo que te gustaría investigar o probar?\n",
    "\n",
    "### **¡Tómate tiempo para investigar y leer mucho!**"
   ]
  },
  {
   "cell_type": "code",
   "execution_count": 7,
   "metadata": {},
   "outputs": [
    {
     "name": "stderr",
     "output_type": "stream",
     "text": [
      "[nltk_data] Downloading package vader_lexicon to\n",
      "[nltk_data]     C:\\Users\\caper\\AppData\\Roaming\\nltk_data...\n",
      "[nltk_data]   Package vader_lexicon is already up-to-date!\n",
      "[nltk_data] Downloading package punkt to\n",
      "[nltk_data]     C:\\Users\\caper\\AppData\\Roaming\\nltk_data...\n",
      "[nltk_data]   Package punkt is already up-to-date!\n",
      "[nltk_data] Downloading package stopwords to\n",
      "[nltk_data]     C:\\Users\\caper\\AppData\\Roaming\\nltk_data...\n",
      "[nltk_data]   Package stopwords is already up-to-date!\n"
     ]
    }
   ],
   "source": [
    "import nltk\n",
    "nltk.download('vader_lexicon')\n",
    "nltk.download('punkt')\n",
    "nltk.download('stopwords')\n",
    "import pandas as pd\n",
    "from sklearn.preprocessing import MinMaxScaler\n",
    "import seaborn as sns\n",
    "import matplotlib.pyplot as plt\n",
    "import gzip\n",
    "import numpy as np\n",
    "from nltk.sentiment.vader import SentimentIntensityAnalyzer\n",
    "from nltk import sentiment\n",
    "from nltk import word_tokenize\n",
    "sns.set()\n",
    "import gc #garbage collector\n",
    "from surprise import Dataset\n",
    "from surprise import Reader\n",
    "from surprise.model_selection import train_test_split\n",
    "from surprise import SVD"
   ]
  },
  {
   "cell_type": "code",
   "execution_count": 15,
   "metadata": {
    "id": "lWZhtUxEWTzj"
   },
   "outputs": [
    {
     "name": "stdout",
     "output_type": "stream",
     "text": [
      "Wall time: 0 ns\n"
     ]
    }
   ],
   "source": [
    "%%time\n",
    "def parse(path):\n",
    "    g = gzip.open(path, 'r')\n",
    "    for l in g:\n",
    "        yield eval(l)"
   ]
  },
  {
   "cell_type": "markdown",
   "metadata": {
    "id": "BmEM25k4WTzw"
   },
   "source": [
    "### Reviews: Filtro de registros del dataset original"
   ]
  },
  {
   "cell_type": "markdown",
   "metadata": {},
   "source": [
    "Voy a ir por otro camino diferente al remcomendado por el código inicial del notebook.\n",
    "Considero una mejor opción a elegir estratégicamente los registros que voy a utilizar para el sistema de recomendación, de acuerdo a la cantidad de juegos criticados/jugados por los usuarios. Voy a tratar de encontrar un balance entre:\n",
    "* **La cantidad de registros.** Para no sobrecargar la memoria RAM de mi equipo.\n",
    "* **La cantidad de usuarios.** Para tener suficiente diversidad de gustos y críticas de juegos.\n",
    "* **La cantidad de juegos criticados por usuario.** Descartando usuarios que hayan jugado solamente 1 juego, que no aportan demasiado al sistema de recomendación y también usuarios que hayan jugado más de 50 juegos, para bajar la cantidad de registros que uso por usuario, y poder tener mayor cantidad de criticas de diferentes usuarios en el dataset.\n"
   ]
  },
  {
   "cell_type": "code",
   "execution_count": 3,
   "metadata": {
    "id": "abAXItn1WTz0"
   },
   "outputs": [
    {
     "name": "stdout",
     "output_type": "stream",
     "text": [
      "Wall time: 4min 41s\n"
     ]
    }
   ],
   "source": [
    "%%time\n",
    "contador = 0\n",
    "data_reviews = []\n",
    "# Vamos a guardar una de cada todos los reviews. Si pones n = 3, abrira uno de cada tres, y asi.\n",
    "n = 1\n",
    "for l in parse('steam_reviews.json.gz'):\n",
    "    if contador%n == 0:\n",
    "        data_reviews.append(l)\n",
    "    else:\n",
    "        pass\n",
    "    contador += 1\n"
   ]
  },
  {
   "cell_type": "code",
   "execution_count": 4,
   "metadata": {},
   "outputs": [
    {
     "name": "stdout",
     "output_type": "stream",
     "text": [
      "Wall time: 21.6 s\n"
     ]
    }
   ],
   "source": [
    "%%time\n",
    "data_reviews = pd.DataFrame(data_reviews)"
   ]
  },
  {
   "cell_type": "markdown",
   "metadata": {},
   "source": [
    "Me quedo con solo con los registros escritos por usuarios que jugaron al menos 3 juegos:"
   ]
  },
  {
   "cell_type": "code",
   "execution_count": 6,
   "metadata": {},
   "outputs": [
    {
     "name": "stdout",
     "output_type": "stream",
     "text": [
      "Wall time: 5.42 s\n"
     ]
    }
   ],
   "source": [
    "%%time\n",
    "mask = data_reviews[\"username\"].value_counts() >= 3\n",
    "trues =  mask.where(mask == True).dropna()\n",
    "lista = list(trues.index)"
   ]
  },
  {
   "cell_type": "code",
   "execution_count": 7,
   "metadata": {},
   "outputs": [
    {
     "name": "stdout",
     "output_type": "stream",
     "text": [
      "Wall time: 3.93 s\n"
     ]
    },
    {
     "data": {
      "text/html": [
       "<div>\n",
       "<style scoped>\n",
       "    .dataframe tbody tr th:only-of-type {\n",
       "        vertical-align: middle;\n",
       "    }\n",
       "\n",
       "    .dataframe tbody tr th {\n",
       "        vertical-align: top;\n",
       "    }\n",
       "\n",
       "    .dataframe thead th {\n",
       "        text-align: right;\n",
       "    }\n",
       "</style>\n",
       "<table border=\"1\" class=\"dataframe\">\n",
       "  <thead>\n",
       "    <tr style=\"text-align: right;\">\n",
       "      <th></th>\n",
       "      <th>username</th>\n",
       "      <th>hours</th>\n",
       "      <th>products</th>\n",
       "      <th>product_id</th>\n",
       "      <th>page_order</th>\n",
       "      <th>date</th>\n",
       "      <th>text</th>\n",
       "      <th>early_access</th>\n",
       "      <th>page</th>\n",
       "      <th>found_funny</th>\n",
       "      <th>compensation</th>\n",
       "      <th>user_id</th>\n",
       "    </tr>\n",
       "  </thead>\n",
       "  <tbody>\n",
       "    <tr>\n",
       "      <th>0</th>\n",
       "      <td>Chaos Syren</td>\n",
       "      <td>0.1</td>\n",
       "      <td>41.0</td>\n",
       "      <td>725280</td>\n",
       "      <td>0</td>\n",
       "      <td>2017-12-17</td>\n",
       "      <td>This would not be acceptable as an entertainme...</td>\n",
       "      <td>False</td>\n",
       "      <td>1</td>\n",
       "      <td>NaN</td>\n",
       "      <td>NaN</td>\n",
       "      <td>NaN</td>\n",
       "    </tr>\n",
       "    <tr>\n",
       "      <th>1</th>\n",
       "      <td>₮ʜᴇ Wᴀʀᴛᴏɴ</td>\n",
       "      <td>51.1</td>\n",
       "      <td>769.0</td>\n",
       "      <td>328100</td>\n",
       "      <td>0</td>\n",
       "      <td>2017-12-27</td>\n",
       "      <td>looks like a facebook game</td>\n",
       "      <td>False</td>\n",
       "      <td>1</td>\n",
       "      <td>NaN</td>\n",
       "      <td>NaN</td>\n",
       "      <td>NaN</td>\n",
       "    </tr>\n",
       "    <tr>\n",
       "      <th>3</th>\n",
       "      <td>Cyderine916</td>\n",
       "      <td>5.0</td>\n",
       "      <td>64.0</td>\n",
       "      <td>35140</td>\n",
       "      <td>0</td>\n",
       "      <td>2018-01-04</td>\n",
       "      <td>I love and idolized Batman and this game is Ma...</td>\n",
       "      <td>False</td>\n",
       "      <td>1</td>\n",
       "      <td>NaN</td>\n",
       "      <td>NaN</td>\n",
       "      <td>NaN</td>\n",
       "    </tr>\n",
       "    <tr>\n",
       "      <th>4</th>\n",
       "      <td>DarklyThinking</td>\n",
       "      <td>16.6</td>\n",
       "      <td>577.0</td>\n",
       "      <td>35140</td>\n",
       "      <td>1</td>\n",
       "      <td>2018-01-04</td>\n",
       "      <td>Still worth playing in 2018.\\nProbably my favo...</td>\n",
       "      <td>False</td>\n",
       "      <td>1</td>\n",
       "      <td>NaN</td>\n",
       "      <td>NaN</td>\n",
       "      <td>76561198007483075</td>\n",
       "    </tr>\n",
       "    <tr>\n",
       "      <th>5</th>\n",
       "      <td>Teef 🐏</td>\n",
       "      <td>0.9</td>\n",
       "      <td>923.0</td>\n",
       "      <td>725280</td>\n",
       "      <td>1</td>\n",
       "      <td>2017-12-03</td>\n",
       "      <td>hey thanks for stealing my spritework</td>\n",
       "      <td>False</td>\n",
       "      <td>1</td>\n",
       "      <td>1.0</td>\n",
       "      <td>NaN</td>\n",
       "      <td>NaN</td>\n",
       "    </tr>\n",
       "    <tr>\n",
       "      <th>...</th>\n",
       "      <td>...</td>\n",
       "      <td>...</td>\n",
       "      <td>...</td>\n",
       "      <td>...</td>\n",
       "      <td>...</td>\n",
       "      <td>...</td>\n",
       "      <td>...</td>\n",
       "      <td>...</td>\n",
       "      <td>...</td>\n",
       "      <td>...</td>\n",
       "      <td>...</td>\n",
       "      <td>...</td>\n",
       "    </tr>\n",
       "    <tr>\n",
       "      <th>7793062</th>\n",
       "      <td>Don Camillo</td>\n",
       "      <td>261.7</td>\n",
       "      <td>298.0</td>\n",
       "      <td>252490</td>\n",
       "      <td>3</td>\n",
       "      <td>2013-12-11</td>\n",
       "      <td>its so meganice this game Big Thanks To Garry ...</td>\n",
       "      <td>True</td>\n",
       "      <td>10221</td>\n",
       "      <td>NaN</td>\n",
       "      <td>NaN</td>\n",
       "      <td>76561197983773018</td>\n",
       "    </tr>\n",
       "    <tr>\n",
       "      <th>7793063</th>\n",
       "      <td>Corvo</td>\n",
       "      <td>157.8</td>\n",
       "      <td>29.0</td>\n",
       "      <td>252490</td>\n",
       "      <td>4</td>\n",
       "      <td>2013-12-11</td>\n",
       "      <td>Great multi-player survival game,  iv'e been p...</td>\n",
       "      <td>True</td>\n",
       "      <td>10221</td>\n",
       "      <td>NaN</td>\n",
       "      <td>NaN</td>\n",
       "      <td>NaN</td>\n",
       "    </tr>\n",
       "    <tr>\n",
       "      <th>7793065</th>\n",
       "      <td>Stony</td>\n",
       "      <td>1215.2</td>\n",
       "      <td>73.0</td>\n",
       "      <td>252490</td>\n",
       "      <td>6</td>\n",
       "      <td>2013-12-11</td>\n",
       "      <td>really fun and addictive game to play</td>\n",
       "      <td>True</td>\n",
       "      <td>10221</td>\n",
       "      <td>NaN</td>\n",
       "      <td>NaN</td>\n",
       "      <td>76561198089897928</td>\n",
       "    </tr>\n",
       "    <tr>\n",
       "      <th>7793067</th>\n",
       "      <td>Vidaar</td>\n",
       "      <td>783.5</td>\n",
       "      <td>353.0</td>\n",
       "      <td>252490</td>\n",
       "      <td>8</td>\n",
       "      <td>2013-12-11</td>\n",
       "      <td>Summary: Rust is a survival game created by Fa...</td>\n",
       "      <td>True</td>\n",
       "      <td>10221</td>\n",
       "      <td>NaN</td>\n",
       "      <td>NaN</td>\n",
       "      <td>NaN</td>\n",
       "    </tr>\n",
       "    <tr>\n",
       "      <th>7793068</th>\n",
       "      <td>Zaithe</td>\n",
       "      <td>1000.1</td>\n",
       "      <td>593.0</td>\n",
       "      <td>252490</td>\n",
       "      <td>9</td>\n",
       "      <td>2013-12-11</td>\n",
       "      <td>Best game i've played in awhile. Has some very...</td>\n",
       "      <td>True</td>\n",
       "      <td>10221</td>\n",
       "      <td>NaN</td>\n",
       "      <td>NaN</td>\n",
       "      <td>NaN</td>\n",
       "    </tr>\n",
       "  </tbody>\n",
       "</table>\n",
       "<p>5404917 rows × 12 columns</p>\n",
       "</div>"
      ],
      "text/plain": [
       "               username   hours  products product_id  page_order        date  \\\n",
       "0           Chaos Syren     0.1      41.0     725280           0  2017-12-17   \n",
       "1            ₮ʜᴇ Wᴀʀᴛᴏɴ    51.1     769.0     328100           0  2017-12-27   \n",
       "3           Cyderine916     5.0      64.0      35140           0  2018-01-04   \n",
       "4        DarklyThinking    16.6     577.0      35140           1  2018-01-04   \n",
       "5                Teef 🐏     0.9     923.0     725280           1  2017-12-03   \n",
       "...                 ...     ...       ...        ...         ...         ...   \n",
       "7793062     Don Camillo   261.7     298.0     252490           3  2013-12-11   \n",
       "7793063           Corvo   157.8      29.0     252490           4  2013-12-11   \n",
       "7793065           Stony  1215.2      73.0     252490           6  2013-12-11   \n",
       "7793067          Vidaar   783.5     353.0     252490           8  2013-12-11   \n",
       "7793068          Zaithe  1000.1     593.0     252490           9  2013-12-11   \n",
       "\n",
       "                                                      text  early_access  \\\n",
       "0        This would not be acceptable as an entertainme...         False   \n",
       "1                               looks like a facebook game         False   \n",
       "3        I love and idolized Batman and this game is Ma...         False   \n",
       "4        Still worth playing in 2018.\\nProbably my favo...         False   \n",
       "5                    hey thanks for stealing my spritework         False   \n",
       "...                                                    ...           ...   \n",
       "7793062  its so meganice this game Big Thanks To Garry ...          True   \n",
       "7793063  Great multi-player survival game,  iv'e been p...          True   \n",
       "7793065              really fun and addictive game to play          True   \n",
       "7793067  Summary: Rust is a survival game created by Fa...          True   \n",
       "7793068  Best game i've played in awhile. Has some very...          True   \n",
       "\n",
       "          page  found_funny compensation            user_id  \n",
       "0            1          NaN          NaN                NaN  \n",
       "1            1          NaN          NaN                NaN  \n",
       "3            1          NaN          NaN                NaN  \n",
       "4            1          NaN          NaN  76561198007483075  \n",
       "5            1          1.0          NaN                NaN  \n",
       "...        ...          ...          ...                ...  \n",
       "7793062  10221          NaN          NaN  76561197983773018  \n",
       "7793063  10221          NaN          NaN                NaN  \n",
       "7793065  10221          NaN          NaN  76561198089897928  \n",
       "7793067  10221          NaN          NaN                NaN  \n",
       "7793068  10221          NaN          NaN                NaN  \n",
       "\n",
       "[5404917 rows x 12 columns]"
      ]
     },
     "execution_count": 7,
     "metadata": {},
     "output_type": "execute_result"
    }
   ],
   "source": [
    "%%time\n",
    "data_reviews_I =  data_reviews[data_reviews[\"username\"].isin(lista)]\n",
    "data_reviews_I"
   ]
  },
  {
   "cell_type": "markdown",
   "metadata": {},
   "source": [
    "Es un dataset demasiado grande, voy a quedarme solo con las primeras 1.500.000 instancias."
   ]
  },
  {
   "cell_type": "code",
   "execution_count": 8,
   "metadata": {},
   "outputs": [
    {
     "name": "stdout",
     "output_type": "stream",
     "text": [
      "Wall time: 998 µs\n"
     ]
    },
    {
     "data": {
      "text/html": [
       "<div>\n",
       "<style scoped>\n",
       "    .dataframe tbody tr th:only-of-type {\n",
       "        vertical-align: middle;\n",
       "    }\n",
       "\n",
       "    .dataframe tbody tr th {\n",
       "        vertical-align: top;\n",
       "    }\n",
       "\n",
       "    .dataframe thead th {\n",
       "        text-align: right;\n",
       "    }\n",
       "</style>\n",
       "<table border=\"1\" class=\"dataframe\">\n",
       "  <thead>\n",
       "    <tr style=\"text-align: right;\">\n",
       "      <th></th>\n",
       "      <th>username</th>\n",
       "      <th>hours</th>\n",
       "      <th>products</th>\n",
       "      <th>product_id</th>\n",
       "      <th>page_order</th>\n",
       "      <th>date</th>\n",
       "      <th>text</th>\n",
       "      <th>early_access</th>\n",
       "      <th>page</th>\n",
       "      <th>found_funny</th>\n",
       "      <th>compensation</th>\n",
       "      <th>user_id</th>\n",
       "    </tr>\n",
       "  </thead>\n",
       "  <tbody>\n",
       "    <tr>\n",
       "      <th>0</th>\n",
       "      <td>Chaos Syren</td>\n",
       "      <td>0.1</td>\n",
       "      <td>41.0</td>\n",
       "      <td>725280</td>\n",
       "      <td>0</td>\n",
       "      <td>2017-12-17</td>\n",
       "      <td>This would not be acceptable as an entertainme...</td>\n",
       "      <td>False</td>\n",
       "      <td>1</td>\n",
       "      <td>NaN</td>\n",
       "      <td>NaN</td>\n",
       "      <td>NaN</td>\n",
       "    </tr>\n",
       "    <tr>\n",
       "      <th>1</th>\n",
       "      <td>₮ʜᴇ Wᴀʀᴛᴏɴ</td>\n",
       "      <td>51.1</td>\n",
       "      <td>769.0</td>\n",
       "      <td>328100</td>\n",
       "      <td>0</td>\n",
       "      <td>2017-12-27</td>\n",
       "      <td>looks like a facebook game</td>\n",
       "      <td>False</td>\n",
       "      <td>1</td>\n",
       "      <td>NaN</td>\n",
       "      <td>NaN</td>\n",
       "      <td>NaN</td>\n",
       "    </tr>\n",
       "    <tr>\n",
       "      <th>3</th>\n",
       "      <td>Cyderine916</td>\n",
       "      <td>5.0</td>\n",
       "      <td>64.0</td>\n",
       "      <td>35140</td>\n",
       "      <td>0</td>\n",
       "      <td>2018-01-04</td>\n",
       "      <td>I love and idolized Batman and this game is Ma...</td>\n",
       "      <td>False</td>\n",
       "      <td>1</td>\n",
       "      <td>NaN</td>\n",
       "      <td>NaN</td>\n",
       "      <td>NaN</td>\n",
       "    </tr>\n",
       "    <tr>\n",
       "      <th>4</th>\n",
       "      <td>DarklyThinking</td>\n",
       "      <td>16.6</td>\n",
       "      <td>577.0</td>\n",
       "      <td>35140</td>\n",
       "      <td>1</td>\n",
       "      <td>2018-01-04</td>\n",
       "      <td>Still worth playing in 2018.\\nProbably my favo...</td>\n",
       "      <td>False</td>\n",
       "      <td>1</td>\n",
       "      <td>NaN</td>\n",
       "      <td>NaN</td>\n",
       "      <td>76561198007483075</td>\n",
       "    </tr>\n",
       "    <tr>\n",
       "      <th>5</th>\n",
       "      <td>Teef 🐏</td>\n",
       "      <td>0.9</td>\n",
       "      <td>923.0</td>\n",
       "      <td>725280</td>\n",
       "      <td>1</td>\n",
       "      <td>2017-12-03</td>\n",
       "      <td>hey thanks for stealing my spritework</td>\n",
       "      <td>False</td>\n",
       "      <td>1</td>\n",
       "      <td>1.0</td>\n",
       "      <td>NaN</td>\n",
       "      <td>NaN</td>\n",
       "    </tr>\n",
       "    <tr>\n",
       "      <th>...</th>\n",
       "      <td>...</td>\n",
       "      <td>...</td>\n",
       "      <td>...</td>\n",
       "      <td>...</td>\n",
       "      <td>...</td>\n",
       "      <td>...</td>\n",
       "      <td>...</td>\n",
       "      <td>...</td>\n",
       "      <td>...</td>\n",
       "      <td>...</td>\n",
       "      <td>...</td>\n",
       "      <td>...</td>\n",
       "    </tr>\n",
       "    <tr>\n",
       "      <th>2163340</th>\n",
       "      <td>mojo_tas</td>\n",
       "      <td>55.7</td>\n",
       "      <td>77.0</td>\n",
       "      <td>289650</td>\n",
       "      <td>7</td>\n",
       "      <td>2015-01-03</td>\n",
       "      <td>The return to familiar game mechanics (far mor...</td>\n",
       "      <td>False</td>\n",
       "      <td>364</td>\n",
       "      <td>NaN</td>\n",
       "      <td>NaN</td>\n",
       "      <td>76561198014273563</td>\n",
       "    </tr>\n",
       "    <tr>\n",
       "      <th>2163341</th>\n",
       "      <td>RDZ</td>\n",
       "      <td>12.5</td>\n",
       "      <td>152.0</td>\n",
       "      <td>207610</td>\n",
       "      <td>1</td>\n",
       "      <td>2015-07-26</td>\n",
       "      <td>11/10 Would cry again.</td>\n",
       "      <td>False</td>\n",
       "      <td>851</td>\n",
       "      <td>NaN</td>\n",
       "      <td>NaN</td>\n",
       "      <td>NaN</td>\n",
       "    </tr>\n",
       "    <tr>\n",
       "      <th>2163342</th>\n",
       "      <td>Ex Nihiloish</td>\n",
       "      <td>8.3</td>\n",
       "      <td>254.0</td>\n",
       "      <td>262060</td>\n",
       "      <td>3</td>\n",
       "      <td>2017-09-20</td>\n",
       "      <td>Super fun for the masochists.</td>\n",
       "      <td>False</td>\n",
       "      <td>252</td>\n",
       "      <td>NaN</td>\n",
       "      <td>NaN</td>\n",
       "      <td>NaN</td>\n",
       "    </tr>\n",
       "    <tr>\n",
       "      <th>2163346</th>\n",
       "      <td>Đuииø ʕ ·ᴥ·ʔ</td>\n",
       "      <td>136.9</td>\n",
       "      <td>81.0</td>\n",
       "      <td>211820</td>\n",
       "      <td>0</td>\n",
       "      <td>2014-12-18</td>\n",
       "      <td>winter is coming update so cool to play this g...</td>\n",
       "      <td>True</td>\n",
       "      <td>2540</td>\n",
       "      <td>NaN</td>\n",
       "      <td>NaN</td>\n",
       "      <td>NaN</td>\n",
       "    </tr>\n",
       "    <tr>\n",
       "      <th>2163348</th>\n",
       "      <td>mykel</td>\n",
       "      <td>18.7</td>\n",
       "      <td>584.0</td>\n",
       "      <td>262060</td>\n",
       "      <td>4</td>\n",
       "      <td>2017-09-19</td>\n",
       "      <td>This is an amazing game, I am hooked. The narr...</td>\n",
       "      <td>False</td>\n",
       "      <td>252</td>\n",
       "      <td>NaN</td>\n",
       "      <td>NaN</td>\n",
       "      <td>NaN</td>\n",
       "    </tr>\n",
       "  </tbody>\n",
       "</table>\n",
       "<p>1500000 rows × 12 columns</p>\n",
       "</div>"
      ],
      "text/plain": [
       "               username  hours  products product_id  page_order        date  \\\n",
       "0           Chaos Syren    0.1      41.0     725280           0  2017-12-17   \n",
       "1            ₮ʜᴇ Wᴀʀᴛᴏɴ   51.1     769.0     328100           0  2017-12-27   \n",
       "3           Cyderine916    5.0      64.0      35140           0  2018-01-04   \n",
       "4        DarklyThinking   16.6     577.0      35140           1  2018-01-04   \n",
       "5                Teef 🐏    0.9     923.0     725280           1  2017-12-03   \n",
       "...                 ...    ...       ...        ...         ...         ...   \n",
       "2163340        mojo_tas   55.7      77.0     289650           7  2015-01-03   \n",
       "2163341             RDZ   12.5     152.0     207610           1  2015-07-26   \n",
       "2163342    Ex Nihiloish    8.3     254.0     262060           3  2017-09-20   \n",
       "2163346    Đuииø ʕ ·ᴥ·ʔ  136.9      81.0     211820           0  2014-12-18   \n",
       "2163348           mykel   18.7     584.0     262060           4  2017-09-19   \n",
       "\n",
       "                                                      text  early_access  \\\n",
       "0        This would not be acceptable as an entertainme...         False   \n",
       "1                               looks like a facebook game         False   \n",
       "3        I love and idolized Batman and this game is Ma...         False   \n",
       "4        Still worth playing in 2018.\\nProbably my favo...         False   \n",
       "5                    hey thanks for stealing my spritework         False   \n",
       "...                                                    ...           ...   \n",
       "2163340  The return to familiar game mechanics (far mor...         False   \n",
       "2163341                             11/10 Would cry again.         False   \n",
       "2163342                      Super fun for the masochists.         False   \n",
       "2163346  winter is coming update so cool to play this g...          True   \n",
       "2163348  This is an amazing game, I am hooked. The narr...         False   \n",
       "\n",
       "         page  found_funny compensation            user_id  \n",
       "0           1          NaN          NaN                NaN  \n",
       "1           1          NaN          NaN                NaN  \n",
       "3           1          NaN          NaN                NaN  \n",
       "4           1          NaN          NaN  76561198007483075  \n",
       "5           1          1.0          NaN                NaN  \n",
       "...       ...          ...          ...                ...  \n",
       "2163340   364          NaN          NaN  76561198014273563  \n",
       "2163341   851          NaN          NaN                NaN  \n",
       "2163342   252          NaN          NaN                NaN  \n",
       "2163346  2540          NaN          NaN                NaN  \n",
       "2163348   252          NaN          NaN                NaN  \n",
       "\n",
       "[1500000 rows x 12 columns]"
      ]
     },
     "execution_count": 8,
     "metadata": {},
     "output_type": "execute_result"
    }
   ],
   "source": [
    "%%time\n",
    "data_reviews_II = data_reviews_I.head(1500000)\n",
    "data_reviews_II"
   ]
  },
  {
   "cell_type": "markdown",
   "metadata": {},
   "source": [
    "Controlo si en las instancias que filtré hay usuarios con solamente un videojuego jugado:"
   ]
  },
  {
   "cell_type": "code",
   "execution_count": 9,
   "metadata": {},
   "outputs": [
    {
     "name": "stderr",
     "output_type": "stream",
     "text": [
      "No handles with labels found to put in legend.\n"
     ]
    },
    {
     "data": {
      "text/plain": [
       "<matplotlib.legend.Legend at 0x2f4f40643d0>"
      ]
     },
     "execution_count": 9,
     "metadata": {},
     "output_type": "execute_result"
    },
    {
     "data": {
      "image/png": "[encoded data removed]",
      "text/plain": [
       "<Figure size 432x288 with 1 Axes>"
      ]
     },
     "metadata": {},
     "output_type": "display_data"
    }
   ],
   "source": [
    "sns.countplot(x= data_reviews_II[\"username\"].value_counts(), data=data_reviews_II, palette=\"Set1\")\n",
    "plt.ylim(0,200000)\n",
    "plt.xlim(0,10)\n",
    "plt.legend()"
   ]
  },
  {
   "cell_type": "code",
   "execution_count": 10,
   "metadata": {},
   "outputs": [
    {
     "data": {
      "text/plain": [
       "count    500439.000000\n",
       "mean          2.997368\n",
       "std           5.517527\n",
       "min           1.000000\n",
       "25%           1.000000\n",
       "50%           2.000000\n",
       "75%           3.000000\n",
       "max         483.000000\n",
       "Name: username, dtype: float64"
      ]
     },
     "execution_count": 10,
     "metadata": {},
     "output_type": "execute_result"
    }
   ],
   "source": [
    "data_reviews_II[\"username\"].value_counts().describe()"
   ]
  },
  {
   "cell_type": "markdown",
   "metadata": {},
   "source": [
    "Descarto las instancias con menos de 2 y más de 50 videojuegos jugados, sobre el filtro que ya hice:"
   ]
  },
  {
   "cell_type": "code",
   "execution_count": 11,
   "metadata": {},
   "outputs": [
    {
     "name": "stdout",
     "output_type": "stream",
     "text": [
      "Wall time: 1.87 s\n"
     ]
    }
   ],
   "source": [
    "%%time\n",
    "mask = (data_reviews_II[\"username\"].value_counts() >= 2) & (data_reviews_II[\"username\"].value_counts() <= 50)\n",
    "trues =  mask.where(mask == True).dropna()\n",
    "lista = list(trues.index)"
   ]
  },
  {
   "cell_type": "code",
   "execution_count": 12,
   "metadata": {
    "id": "j24F0ZaYWT0E"
   },
   "outputs": [
    {
     "name": "stdout",
     "output_type": "stream",
     "text": [
      "Wall time: 611 ms\n"
     ]
    },
    {
     "data": {
      "text/html": [
       "<div>\n",
       "<style scoped>\n",
       "    .dataframe tbody tr th:only-of-type {\n",
       "        vertical-align: middle;\n",
       "    }\n",
       "\n",
       "    .dataframe tbody tr th {\n",
       "        vertical-align: top;\n",
       "    }\n",
       "\n",
       "    .dataframe thead th {\n",
       "        text-align: right;\n",
       "    }\n",
       "</style>\n",
       "<table border=\"1\" class=\"dataframe\">\n",
       "  <thead>\n",
       "    <tr style=\"text-align: right;\">\n",
       "      <th></th>\n",
       "      <th>username</th>\n",
       "      <th>hours</th>\n",
       "      <th>products</th>\n",
       "      <th>product_id</th>\n",
       "      <th>page_order</th>\n",
       "      <th>date</th>\n",
       "      <th>text</th>\n",
       "      <th>early_access</th>\n",
       "      <th>page</th>\n",
       "      <th>found_funny</th>\n",
       "      <th>compensation</th>\n",
       "      <th>user_id</th>\n",
       "    </tr>\n",
       "  </thead>\n",
       "  <tbody>\n",
       "    <tr>\n",
       "      <th>1</th>\n",
       "      <td>₮ʜᴇ Wᴀʀᴛᴏɴ</td>\n",
       "      <td>51.1</td>\n",
       "      <td>769.0</td>\n",
       "      <td>328100</td>\n",
       "      <td>0</td>\n",
       "      <td>2017-12-27</td>\n",
       "      <td>looks like a facebook game</td>\n",
       "      <td>False</td>\n",
       "      <td>1</td>\n",
       "      <td>NaN</td>\n",
       "      <td>NaN</td>\n",
       "      <td>NaN</td>\n",
       "    </tr>\n",
       "    <tr>\n",
       "      <th>3</th>\n",
       "      <td>Cyderine916</td>\n",
       "      <td>5.0</td>\n",
       "      <td>64.0</td>\n",
       "      <td>35140</td>\n",
       "      <td>0</td>\n",
       "      <td>2018-01-04</td>\n",
       "      <td>I love and idolized Batman and this game is Ma...</td>\n",
       "      <td>False</td>\n",
       "      <td>1</td>\n",
       "      <td>NaN</td>\n",
       "      <td>NaN</td>\n",
       "      <td>NaN</td>\n",
       "    </tr>\n",
       "    <tr>\n",
       "      <th>4</th>\n",
       "      <td>DarklyThinking</td>\n",
       "      <td>16.6</td>\n",
       "      <td>577.0</td>\n",
       "      <td>35140</td>\n",
       "      <td>1</td>\n",
       "      <td>2018-01-04</td>\n",
       "      <td>Still worth playing in 2018.\\nProbably my favo...</td>\n",
       "      <td>False</td>\n",
       "      <td>1</td>\n",
       "      <td>NaN</td>\n",
       "      <td>NaN</td>\n",
       "      <td>76561198007483075</td>\n",
       "    </tr>\n",
       "    <tr>\n",
       "      <th>5</th>\n",
       "      <td>Teef 🐏</td>\n",
       "      <td>0.9</td>\n",
       "      <td>923.0</td>\n",
       "      <td>725280</td>\n",
       "      <td>1</td>\n",
       "      <td>2017-12-03</td>\n",
       "      <td>hey thanks for stealing my spritework</td>\n",
       "      <td>False</td>\n",
       "      <td>1</td>\n",
       "      <td>1.0</td>\n",
       "      <td>NaN</td>\n",
       "      <td>NaN</td>\n",
       "    </tr>\n",
       "    <tr>\n",
       "      <th>7</th>\n",
       "      <td>Sneaky_Panda</td>\n",
       "      <td>0.6</td>\n",
       "      <td>243.0</td>\n",
       "      <td>725280</td>\n",
       "      <td>3</td>\n",
       "      <td>2017-11-27</td>\n",
       "      <td>If you take a discount - it's not a bad horror...</td>\n",
       "      <td>False</td>\n",
       "      <td>1</td>\n",
       "      <td>NaN</td>\n",
       "      <td>NaN</td>\n",
       "      <td>NaN</td>\n",
       "    </tr>\n",
       "    <tr>\n",
       "      <th>...</th>\n",
       "      <td>...</td>\n",
       "      <td>...</td>\n",
       "      <td>...</td>\n",
       "      <td>...</td>\n",
       "      <td>...</td>\n",
       "      <td>...</td>\n",
       "      <td>...</td>\n",
       "      <td>...</td>\n",
       "      <td>...</td>\n",
       "      <td>...</td>\n",
       "      <td>...</td>\n",
       "      <td>...</td>\n",
       "    </tr>\n",
       "    <tr>\n",
       "      <th>2163333</th>\n",
       "      <td>TrickyDicky</td>\n",
       "      <td>20.4</td>\n",
       "      <td>237.0</td>\n",
       "      <td>289650</td>\n",
       "      <td>6</td>\n",
       "      <td>2015-01-03</td>\n",
       "      <td>Pros\\nGreat Graphics\\nGameplay is fun\\nParis l...</td>\n",
       "      <td>False</td>\n",
       "      <td>364</td>\n",
       "      <td>NaN</td>\n",
       "      <td>NaN</td>\n",
       "      <td>NaN</td>\n",
       "    </tr>\n",
       "    <tr>\n",
       "      <th>2163335</th>\n",
       "      <td>probe</td>\n",
       "      <td>58.4</td>\n",
       "      <td>94.0</td>\n",
       "      <td>262060</td>\n",
       "      <td>2</td>\n",
       "      <td>2017-09-21</td>\n",
       "      <td>I'm so bad at this game but I really like it. ...</td>\n",
       "      <td>False</td>\n",
       "      <td>252</td>\n",
       "      <td>NaN</td>\n",
       "      <td>NaN</td>\n",
       "      <td>76561198093203804</td>\n",
       "    </tr>\n",
       "    <tr>\n",
       "      <th>2163341</th>\n",
       "      <td>RDZ</td>\n",
       "      <td>12.5</td>\n",
       "      <td>152.0</td>\n",
       "      <td>207610</td>\n",
       "      <td>1</td>\n",
       "      <td>2015-07-26</td>\n",
       "      <td>11/10 Would cry again.</td>\n",
       "      <td>False</td>\n",
       "      <td>851</td>\n",
       "      <td>NaN</td>\n",
       "      <td>NaN</td>\n",
       "      <td>NaN</td>\n",
       "    </tr>\n",
       "    <tr>\n",
       "      <th>2163342</th>\n",
       "      <td>Ex Nihiloish</td>\n",
       "      <td>8.3</td>\n",
       "      <td>254.0</td>\n",
       "      <td>262060</td>\n",
       "      <td>3</td>\n",
       "      <td>2017-09-20</td>\n",
       "      <td>Super fun for the masochists.</td>\n",
       "      <td>False</td>\n",
       "      <td>252</td>\n",
       "      <td>NaN</td>\n",
       "      <td>NaN</td>\n",
       "      <td>NaN</td>\n",
       "    </tr>\n",
       "    <tr>\n",
       "      <th>2163348</th>\n",
       "      <td>mykel</td>\n",
       "      <td>18.7</td>\n",
       "      <td>584.0</td>\n",
       "      <td>262060</td>\n",
       "      <td>4</td>\n",
       "      <td>2017-09-19</td>\n",
       "      <td>This is an amazing game, I am hooked. The narr...</td>\n",
       "      <td>False</td>\n",
       "      <td>252</td>\n",
       "      <td>NaN</td>\n",
       "      <td>NaN</td>\n",
       "      <td>NaN</td>\n",
       "    </tr>\n",
       "  </tbody>\n",
       "</table>\n",
       "<p>1231603 rows × 12 columns</p>\n",
       "</div>"
      ],
      "text/plain": [
       "               username  hours  products product_id  page_order        date  \\\n",
       "1            ₮ʜᴇ Wᴀʀᴛᴏɴ   51.1     769.0     328100           0  2017-12-27   \n",
       "3           Cyderine916    5.0      64.0      35140           0  2018-01-04   \n",
       "4        DarklyThinking   16.6     577.0      35140           1  2018-01-04   \n",
       "5                Teef 🐏    0.9     923.0     725280           1  2017-12-03   \n",
       "7          Sneaky_Panda    0.6     243.0     725280           3  2017-11-27   \n",
       "...                 ...    ...       ...        ...         ...         ...   \n",
       "2163333     TrickyDicky   20.4     237.0     289650           6  2015-01-03   \n",
       "2163335           probe   58.4      94.0     262060           2  2017-09-21   \n",
       "2163341             RDZ   12.5     152.0     207610           1  2015-07-26   \n",
       "2163342    Ex Nihiloish    8.3     254.0     262060           3  2017-09-20   \n",
       "2163348           mykel   18.7     584.0     262060           4  2017-09-19   \n",
       "\n",
       "                                                      text  early_access  \\\n",
       "1                               looks like a facebook game         False   \n",
       "3        I love and idolized Batman and this game is Ma...         False   \n",
       "4        Still worth playing in 2018.\\nProbably my favo...         False   \n",
       "5                    hey thanks for stealing my spritework         False   \n",
       "7        If you take a discount - it's not a bad horror...         False   \n",
       "...                                                    ...           ...   \n",
       "2163333  Pros\\nGreat Graphics\\nGameplay is fun\\nParis l...         False   \n",
       "2163335  I'm so bad at this game but I really like it. ...         False   \n",
       "2163341                             11/10 Would cry again.         False   \n",
       "2163342                      Super fun for the masochists.         False   \n",
       "2163348  This is an amazing game, I am hooked. The narr...         False   \n",
       "\n",
       "         page  found_funny compensation            user_id  \n",
       "1           1          NaN          NaN                NaN  \n",
       "3           1          NaN          NaN                NaN  \n",
       "4           1          NaN          NaN  76561198007483075  \n",
       "5           1          1.0          NaN                NaN  \n",
       "7           1          NaN          NaN                NaN  \n",
       "...       ...          ...          ...                ...  \n",
       "2163333   364          NaN          NaN                NaN  \n",
       "2163335   252          NaN          NaN  76561198093203804  \n",
       "2163341   851          NaN          NaN                NaN  \n",
       "2163342   252          NaN          NaN                NaN  \n",
       "2163348   252          NaN          NaN                NaN  \n",
       "\n",
       "[1231603 rows x 12 columns]"
      ]
     },
     "execution_count": 12,
     "metadata": {},
     "output_type": "execute_result"
    }
   ],
   "source": [
    "%%time\n",
    "data_reviews_III =  data_reviews_II[data_reviews_II[\"username\"].isin(lista)]\n",
    "data_reviews_III"
   ]
  },
  {
   "cell_type": "code",
   "execution_count": 14,
   "metadata": {},
   "outputs": [
    {
     "name": "stderr",
     "output_type": "stream",
     "text": [
      "No handles with labels found to put in legend.\n"
     ]
    },
    {
     "data": {
      "text/plain": [
       "<matplotlib.legend.Legend at 0x2f415830a60>"
      ]
     },
     "execution_count": 14,
     "metadata": {},
     "output_type": "execute_result"
    },
    {
     "data": {
      "image/png": "[encoded data removed]",
      "text/plain": [
       "<Figure size 432x288 with 1 Axes>"
      ]
     },
     "metadata": {},
     "output_type": "display_data"
    }
   ],
   "source": [
    "sns.countplot(x= data_reviews_III[\"username\"].value_counts(), data=data_reviews_III, palette=\"Set1\")\n",
    "plt.ylim(0,150000)\n",
    "plt.xlim(0,10)\n",
    "plt.legend()"
   ]
  },
  {
   "cell_type": "code",
   "execution_count": 23,
   "metadata": {},
   "outputs": [
    {
     "data": {
      "text/plain": [
       "count    313264.000000\n",
       "mean          3.931518\n",
       "std           3.924515\n",
       "min           2.000000\n",
       "25%           2.000000\n",
       "50%           3.000000\n",
       "75%           4.000000\n",
       "max          50.000000\n",
       "Name: username, dtype: float64"
      ]
     },
     "execution_count": 23,
     "metadata": {},
     "output_type": "execute_result"
    }
   ],
   "source": [
    "data_reviews_III[\"username\"].value_counts().describe()"
   ]
  },
  {
   "cell_type": "markdown",
   "metadata": {},
   "source": [
    "Caracterísitcas del dataset inicial:"
   ]
  },
  {
   "cell_type": "code",
   "execution_count": 28,
   "metadata": {},
   "outputs": [
    {
     "name": "stdout",
     "output_type": "stream",
     "text": [
      "Cantidad de registros: 1231603\n",
      "Cantidad de usuarios: 313264\n",
      "Cantidad de mínima de videojuegos jugados por usuario: 2\n",
      "Cantidad de máxima de videojuegos jugados por usuario: 50\n",
      "Promedio de videojuegos jugados por usuario: 3.9315178252209\n"
     ]
    }
   ],
   "source": [
    "print(\"Cantidad de registros:\", data_reviews_III.shape[0])\n",
    "print(\"Cantidad de usuarios:\", data_reviews_III[\"username\"].value_counts().shape[0])\n",
    "print(\"Cantidad de mínima de videojuegos jugados por usuario:\", data_reviews_III[\"username\"].value_counts().min())\n",
    "print(\"Cantidad de máxima de videojuegos jugados por usuario:\", data_reviews_III[\"username\"].value_counts().max())\n",
    "print(\"Promedio de videojuegos jugados por usuario:\", data_reviews_III[\"username\"].value_counts().mean())"
   ]
  },
  {
   "cell_type": "markdown",
   "metadata": {},
   "source": [
    "Descarto la información que no voy a usar de dataset:"
   ]
  },
  {
   "cell_type": "code",
   "execution_count": 29,
   "metadata": {
    "id": "8F-EVRZ4WT0L"
   },
   "outputs": [
    {
     "data": {
      "text/html": [
       "<div>\n",
       "<style scoped>\n",
       "    .dataframe tbody tr th:only-of-type {\n",
       "        vertical-align: middle;\n",
       "    }\n",
       "\n",
       "    .dataframe tbody tr th {\n",
       "        vertical-align: top;\n",
       "    }\n",
       "\n",
       "    .dataframe thead th {\n",
       "        text-align: right;\n",
       "    }\n",
       "</style>\n",
       "<table border=\"1\" class=\"dataframe\">\n",
       "  <thead>\n",
       "    <tr style=\"text-align: right;\">\n",
       "      <th></th>\n",
       "      <th>username</th>\n",
       "      <th>hours</th>\n",
       "      <th>product_id</th>\n",
       "      <th>text</th>\n",
       "    </tr>\n",
       "  </thead>\n",
       "  <tbody>\n",
       "    <tr>\n",
       "      <th>1</th>\n",
       "      <td>₮ʜᴇ Wᴀʀᴛᴏɴ</td>\n",
       "      <td>51.1</td>\n",
       "      <td>328100</td>\n",
       "      <td>looks like a facebook game</td>\n",
       "    </tr>\n",
       "    <tr>\n",
       "      <th>3</th>\n",
       "      <td>Cyderine916</td>\n",
       "      <td>5.0</td>\n",
       "      <td>35140</td>\n",
       "      <td>I love and idolized Batman and this game is Ma...</td>\n",
       "    </tr>\n",
       "    <tr>\n",
       "      <th>4</th>\n",
       "      <td>DarklyThinking</td>\n",
       "      <td>16.6</td>\n",
       "      <td>35140</td>\n",
       "      <td>Still worth playing in 2018.\\nProbably my favo...</td>\n",
       "    </tr>\n",
       "    <tr>\n",
       "      <th>5</th>\n",
       "      <td>Teef 🐏</td>\n",
       "      <td>0.9</td>\n",
       "      <td>725280</td>\n",
       "      <td>hey thanks for stealing my spritework</td>\n",
       "    </tr>\n",
       "    <tr>\n",
       "      <th>7</th>\n",
       "      <td>Sneaky_Panda</td>\n",
       "      <td>0.6</td>\n",
       "      <td>725280</td>\n",
       "      <td>If you take a discount - it's not a bad horror...</td>\n",
       "    </tr>\n",
       "  </tbody>\n",
       "</table>\n",
       "</div>"
      ],
      "text/plain": [
       "         username  hours product_id  \\\n",
       "1      ₮ʜᴇ Wᴀʀᴛᴏɴ   51.1     328100   \n",
       "3     Cyderine916    5.0      35140   \n",
       "4  DarklyThinking   16.6      35140   \n",
       "5          Teef 🐏    0.9     725280   \n",
       "7    Sneaky_Panda    0.6     725280   \n",
       "\n",
       "                                                text  \n",
       "1                         looks like a facebook game  \n",
       "3  I love and idolized Batman and this game is Ma...  \n",
       "4  Still worth playing in 2018.\\nProbably my favo...  \n",
       "5              hey thanks for stealing my spritework  \n",
       "7  If you take a discount - it's not a bad horror...  "
      ]
     },
     "execution_count": 29,
     "metadata": {},
     "output_type": "execute_result"
    }
   ],
   "source": [
    "steam_reviews_I =  data_reviews_III.drop([\"products\", \"user_id\", \"compensation\", \"found_funny\", \"page\", \"early_access\", \"date\", \"page_order\"], axis=1)\n",
    "steam_reviews_I.head()"
   ]
  },
  {
   "cell_type": "markdown",
   "metadata": {},
   "source": [
    "Investigo y descarto los valores faltantes restantes:"
   ]
  },
  {
   "cell_type": "code",
   "execution_count": 30,
   "metadata": {},
   "outputs": [
    {
     "data": {
      "text/html": [
       "<div>\n",
       "<style scoped>\n",
       "    .dataframe tbody tr th:only-of-type {\n",
       "        vertical-align: middle;\n",
       "    }\n",
       "\n",
       "    .dataframe tbody tr th {\n",
       "        vertical-align: top;\n",
       "    }\n",
       "\n",
       "    .dataframe thead th {\n",
       "        text-align: right;\n",
       "    }\n",
       "</style>\n",
       "<table border=\"1\" class=\"dataframe\">\n",
       "  <thead>\n",
       "    <tr style=\"text-align: right;\">\n",
       "      <th></th>\n",
       "      <th>0</th>\n",
       "    </tr>\n",
       "  </thead>\n",
       "  <tbody>\n",
       "    <tr>\n",
       "      <th>username</th>\n",
       "      <td>0</td>\n",
       "    </tr>\n",
       "    <tr>\n",
       "      <th>hours</th>\n",
       "      <td>6663</td>\n",
       "    </tr>\n",
       "    <tr>\n",
       "      <th>product_id</th>\n",
       "      <td>0</td>\n",
       "    </tr>\n",
       "    <tr>\n",
       "      <th>text</th>\n",
       "      <td>0</td>\n",
       "    </tr>\n",
       "  </tbody>\n",
       "</table>\n",
       "</div>"
      ],
      "text/plain": [
       "               0\n",
       "username       0\n",
       "hours       6663\n",
       "product_id     0\n",
       "text           0"
      ]
     },
     "execution_count": 30,
     "metadata": {},
     "output_type": "execute_result"
    }
   ],
   "source": [
    "steam_reviews_I.isna().sum().to_frame()"
   ]
  },
  {
   "cell_type": "code",
   "execution_count": 31,
   "metadata": {},
   "outputs": [],
   "source": [
    "steam_reviews_I.dropna(inplace=True)"
   ]
  },
  {
   "cell_type": "code",
   "execution_count": 32,
   "metadata": {},
   "outputs": [
    {
     "data": {
      "text/html": [
       "<div>\n",
       "<style scoped>\n",
       "    .dataframe tbody tr th:only-of-type {\n",
       "        vertical-align: middle;\n",
       "    }\n",
       "\n",
       "    .dataframe tbody tr th {\n",
       "        vertical-align: top;\n",
       "    }\n",
       "\n",
       "    .dataframe thead th {\n",
       "        text-align: right;\n",
       "    }\n",
       "</style>\n",
       "<table border=\"1\" class=\"dataframe\">\n",
       "  <thead>\n",
       "    <tr style=\"text-align: right;\">\n",
       "      <th></th>\n",
       "      <th>0</th>\n",
       "    </tr>\n",
       "  </thead>\n",
       "  <tbody>\n",
       "    <tr>\n",
       "      <th>username</th>\n",
       "      <td>0</td>\n",
       "    </tr>\n",
       "    <tr>\n",
       "      <th>hours</th>\n",
       "      <td>0</td>\n",
       "    </tr>\n",
       "    <tr>\n",
       "      <th>product_id</th>\n",
       "      <td>0</td>\n",
       "    </tr>\n",
       "    <tr>\n",
       "      <th>text</th>\n",
       "      <td>0</td>\n",
       "    </tr>\n",
       "  </tbody>\n",
       "</table>\n",
       "</div>"
      ],
      "text/plain": [
       "            0\n",
       "username    0\n",
       "hours       0\n",
       "product_id  0\n",
       "text        0"
      ]
     },
     "execution_count": 32,
     "metadata": {},
     "output_type": "execute_result"
    }
   ],
   "source": [
    "steam_reviews_I.isna().sum().to_frame()"
   ]
  },
  {
   "cell_type": "code",
   "execution_count": 33,
   "metadata": {},
   "outputs": [
    {
     "data": {
      "text/html": [
       "<div>\n",
       "<style scoped>\n",
       "    .dataframe tbody tr th:only-of-type {\n",
       "        vertical-align: middle;\n",
       "    }\n",
       "\n",
       "    .dataframe tbody tr th {\n",
       "        vertical-align: top;\n",
       "    }\n",
       "\n",
       "    .dataframe thead th {\n",
       "        text-align: right;\n",
       "    }\n",
       "</style>\n",
       "<table border=\"1\" class=\"dataframe\">\n",
       "  <thead>\n",
       "    <tr style=\"text-align: right;\">\n",
       "      <th></th>\n",
       "      <th>username</th>\n",
       "      <th>hours</th>\n",
       "      <th>product_id</th>\n",
       "      <th>text</th>\n",
       "    </tr>\n",
       "  </thead>\n",
       "  <tbody>\n",
       "    <tr>\n",
       "      <th>1</th>\n",
       "      <td>₮ʜᴇ Wᴀʀᴛᴏɴ</td>\n",
       "      <td>51.1</td>\n",
       "      <td>328100</td>\n",
       "      <td>looks like a facebook game</td>\n",
       "    </tr>\n",
       "    <tr>\n",
       "      <th>3</th>\n",
       "      <td>Cyderine916</td>\n",
       "      <td>5.0</td>\n",
       "      <td>35140</td>\n",
       "      <td>I love and idolized Batman and this game is Ma...</td>\n",
       "    </tr>\n",
       "    <tr>\n",
       "      <th>4</th>\n",
       "      <td>DarklyThinking</td>\n",
       "      <td>16.6</td>\n",
       "      <td>35140</td>\n",
       "      <td>Still worth playing in 2018.\\nProbably my favo...</td>\n",
       "    </tr>\n",
       "    <tr>\n",
       "      <th>5</th>\n",
       "      <td>Teef 🐏</td>\n",
       "      <td>0.9</td>\n",
       "      <td>725280</td>\n",
       "      <td>hey thanks for stealing my spritework</td>\n",
       "    </tr>\n",
       "    <tr>\n",
       "      <th>7</th>\n",
       "      <td>Sneaky_Panda</td>\n",
       "      <td>0.6</td>\n",
       "      <td>725280</td>\n",
       "      <td>If you take a discount - it's not a bad horror...</td>\n",
       "    </tr>\n",
       "    <tr>\n",
       "      <th>...</th>\n",
       "      <td>...</td>\n",
       "      <td>...</td>\n",
       "      <td>...</td>\n",
       "      <td>...</td>\n",
       "    </tr>\n",
       "    <tr>\n",
       "      <th>2163333</th>\n",
       "      <td>TrickyDicky</td>\n",
       "      <td>20.4</td>\n",
       "      <td>289650</td>\n",
       "      <td>Pros\\nGreat Graphics\\nGameplay is fun\\nParis l...</td>\n",
       "    </tr>\n",
       "    <tr>\n",
       "      <th>2163335</th>\n",
       "      <td>probe</td>\n",
       "      <td>58.4</td>\n",
       "      <td>262060</td>\n",
       "      <td>I'm so bad at this game but I really like it. ...</td>\n",
       "    </tr>\n",
       "    <tr>\n",
       "      <th>2163341</th>\n",
       "      <td>RDZ</td>\n",
       "      <td>12.5</td>\n",
       "      <td>207610</td>\n",
       "      <td>11/10 Would cry again.</td>\n",
       "    </tr>\n",
       "    <tr>\n",
       "      <th>2163342</th>\n",
       "      <td>Ex Nihiloish</td>\n",
       "      <td>8.3</td>\n",
       "      <td>262060</td>\n",
       "      <td>Super fun for the masochists.</td>\n",
       "    </tr>\n",
       "    <tr>\n",
       "      <th>2163348</th>\n",
       "      <td>mykel</td>\n",
       "      <td>18.7</td>\n",
       "      <td>262060</td>\n",
       "      <td>This is an amazing game, I am hooked. The narr...</td>\n",
       "    </tr>\n",
       "  </tbody>\n",
       "</table>\n",
       "<p>1224940 rows × 4 columns</p>\n",
       "</div>"
      ],
      "text/plain": [
       "               username  hours product_id  \\\n",
       "1            ₮ʜᴇ Wᴀʀᴛᴏɴ   51.1     328100   \n",
       "3           Cyderine916    5.0      35140   \n",
       "4        DarklyThinking   16.6      35140   \n",
       "5                Teef 🐏    0.9     725280   \n",
       "7          Sneaky_Panda    0.6     725280   \n",
       "...                 ...    ...        ...   \n",
       "2163333     TrickyDicky   20.4     289650   \n",
       "2163335           probe   58.4     262060   \n",
       "2163341             RDZ   12.5     207610   \n",
       "2163342    Ex Nihiloish    8.3     262060   \n",
       "2163348           mykel   18.7     262060   \n",
       "\n",
       "                                                      text  \n",
       "1                               looks like a facebook game  \n",
       "3        I love and idolized Batman and this game is Ma...  \n",
       "4        Still worth playing in 2018.\\nProbably my favo...  \n",
       "5                    hey thanks for stealing my spritework  \n",
       "7        If you take a discount - it's not a bad horror...  \n",
       "...                                                    ...  \n",
       "2163333  Pros\\nGreat Graphics\\nGameplay is fun\\nParis l...  \n",
       "2163335  I'm so bad at this game but I really like it. ...  \n",
       "2163341                             11/10 Would cry again.  \n",
       "2163342                      Super fun for the masochists.  \n",
       "2163348  This is an amazing game, I am hooked. The narr...  \n",
       "\n",
       "[1224940 rows x 4 columns]"
      ]
     },
     "execution_count": 33,
     "metadata": {},
     "output_type": "execute_result"
    }
   ],
   "source": [
    "steam_reviews_I"
   ]
  },
  {
   "cell_type": "markdown",
   "metadata": {},
   "source": [
    "Guardo en un CSV el primer Checkpoint del dataframe. Éste incluye:\n",
    "* El filtrado aplicado al dataset original de Steam \n",
    "* La eliminación de las columnas inútiles\n",
    "* El descarte de los 6663 datos faltantes en la columna ***hours*** \n",
    "\n",
    "\n",
    "Me quedan 1224940 registros para seguir trabajando."
   ]
  },
  {
   "cell_type": "code",
   "execution_count": 34,
   "metadata": {},
   "outputs": [],
   "source": [
    "steam_reviews_I.to_csv('steam_reviews_I.csv', index= False)"
   ]
  },
  {
   "cell_type": "code",
   "execution_count": 56,
   "metadata": {},
   "outputs": [],
   "source": [
    "steam_reviews_I = pd.read_csv('steam_reviews_I.csv')"
   ]
  },
  {
   "cell_type": "markdown",
   "metadata": {},
   "source": [
    "## 1. Métrica por sentimientos de reviews"
   ]
  },
  {
   "cell_type": "markdown",
   "metadata": {},
   "source": [
    "### a. Detectar el idioma de las reviews"
   ]
  },
  {
   "cell_type": "markdown",
   "metadata": {},
   "source": [
    "Para armar un sistema de recomendaciones necesito armar una métrica que logre estimar una calificación de parte de cada usuario, para cada review.  \n",
    "Mi idea es armar ésta métrica como una combinación de un analisis de sentimientos de los reviews y de la horas jugadas a la hora del review.\n",
    "\n",
    "Primero voy a enfocarme en el análisis de sentimientos. Para ésto necesito comprobar que tengo todas o la mayoría de las reviews en en el mismo idioma."
   ]
  },
  {
   "cell_type": "markdown",
   "metadata": {},
   "source": [
    "Voy a crear una función con la librería ***nltk*** que detecte el idioma de un string de datos:"
   ]
  },
  {
   "cell_type": "code",
   "execution_count": 38,
   "metadata": {},
   "outputs": [],
   "source": [
    "def detect_language(x):\n",
    "    languages = [\"spanish\",\"english\",\"dutch\",\"finnish\",\"german\",\"italian\",\"portuguese\",\"turkish\",\"danish\",\"french\",\"hungarian\",\"norwegian\",\"russian\",\"swedish\"]\n",
    "    tokens = nltk.tokenize.word_tokenize(x)\n",
    "    tokens = [t.strip().lower() for t in tokens]\n",
    "    lang_count = {}\n",
    "    for lang in languages:\n",
    "        stop_words = nltk.corpus.stopwords.words(lang)\n",
    "        lang_count[lang] = 0\n",
    "        for word in tokens:\n",
    "            if word in stop_words:\n",
    "                lang_count[lang] += 1\n",
    "    detected_language = max(lang_count, key=lang_count.get)\n",
    "    return detected_language"
   ]
  },
  {
   "cell_type": "markdown",
   "metadata": {},
   "source": [
    "Prueba de la función:"
   ]
  },
  {
   "cell_type": "code",
   "execution_count": 39,
   "metadata": {},
   "outputs": [
    {
     "name": "stdout",
     "output_type": "stream",
     "text": [
      "review:  Still worth playing in 2018.\n",
      "Probably my favorite batman game overall.\n",
      "It lacks the open world aspect of its sequels but makes up for it with a condensed and tense story.\n",
      "Getting 100% of the trophies also didn't feel like a chore(which must be a first for me). \n",
      " idioma:  english\n"
     ]
    }
   ],
   "source": [
    "print(\"review: \",steam_reviews_I[\"text\"][2],\"\\n idioma: \", detect_language(steam_reviews_I[\"text\"][2]))"
   ]
  },
  {
   "cell_type": "markdown",
   "metadata": {},
   "source": [
    "Dado que pudimos comprobar que funciona la función creada, antes de aplicarla a cada review, voy a crear otra columna en el dataframe que pase a formato string todas las reviews y ademas las deje en letra minúscula. Esto va a evitar errores y va a servirme a futuro para el análisis de sentimientos:"
   ]
  },
  {
   "cell_type": "code",
   "execution_count": 40,
   "metadata": {},
   "outputs": [
    {
     "name": "stdout",
     "output_type": "stream",
     "text": [
      "Wall time: 13.5 s\n",
      "Compiler : 252 ms\n"
     ]
    }
   ],
   "source": [
    "%%time\n",
    "steam_reviews_I['str_review'] = steam_reviews_I.apply(lambda row: str(row.text).lower(), axis=1)"
   ]
  },
  {
   "cell_type": "code",
   "execution_count": 41,
   "metadata": {},
   "outputs": [
    {
     "data": {
      "text/html": [
       "<div>\n",
       "<style scoped>\n",
       "    .dataframe tbody tr th:only-of-type {\n",
       "        vertical-align: middle;\n",
       "    }\n",
       "\n",
       "    .dataframe tbody tr th {\n",
       "        vertical-align: top;\n",
       "    }\n",
       "\n",
       "    .dataframe thead th {\n",
       "        text-align: right;\n",
       "    }\n",
       "</style>\n",
       "<table border=\"1\" class=\"dataframe\">\n",
       "  <thead>\n",
       "    <tr style=\"text-align: right;\">\n",
       "      <th></th>\n",
       "      <th>username</th>\n",
       "      <th>hours</th>\n",
       "      <th>product_id</th>\n",
       "      <th>text</th>\n",
       "      <th>str_review</th>\n",
       "    </tr>\n",
       "  </thead>\n",
       "  <tbody>\n",
       "    <tr>\n",
       "      <th>0</th>\n",
       "      <td>₮ʜᴇ Wᴀʀᴛᴏɴ</td>\n",
       "      <td>51.1</td>\n",
       "      <td>328100</td>\n",
       "      <td>looks like a facebook game</td>\n",
       "      <td>looks like a facebook game</td>\n",
       "    </tr>\n",
       "    <tr>\n",
       "      <th>1</th>\n",
       "      <td>Cyderine916</td>\n",
       "      <td>5.0</td>\n",
       "      <td>35140</td>\n",
       "      <td>I love and idolized Batman and this game is Ma...</td>\n",
       "      <td>i love and idolized batman and this game is ma...</td>\n",
       "    </tr>\n",
       "    <tr>\n",
       "      <th>2</th>\n",
       "      <td>DarklyThinking</td>\n",
       "      <td>16.6</td>\n",
       "      <td>35140</td>\n",
       "      <td>Still worth playing in 2018.\\nProbably my favo...</td>\n",
       "      <td>still worth playing in 2018.\\nprobably my favo...</td>\n",
       "    </tr>\n",
       "    <tr>\n",
       "      <th>3</th>\n",
       "      <td>Teef 🐏</td>\n",
       "      <td>0.9</td>\n",
       "      <td>725280</td>\n",
       "      <td>hey thanks for stealing my spritework</td>\n",
       "      <td>hey thanks for stealing my spritework</td>\n",
       "    </tr>\n",
       "    <tr>\n",
       "      <th>4</th>\n",
       "      <td>Sneaky_Panda</td>\n",
       "      <td>0.6</td>\n",
       "      <td>725280</td>\n",
       "      <td>If you take a discount - it's not a bad horror...</td>\n",
       "      <td>if you take a discount - it's not a bad horror...</td>\n",
       "    </tr>\n",
       "    <tr>\n",
       "      <th>...</th>\n",
       "      <td>...</td>\n",
       "      <td>...</td>\n",
       "      <td>...</td>\n",
       "      <td>...</td>\n",
       "      <td>...</td>\n",
       "    </tr>\n",
       "    <tr>\n",
       "      <th>1224935</th>\n",
       "      <td>TrickyDicky</td>\n",
       "      <td>20.4</td>\n",
       "      <td>289650</td>\n",
       "      <td>Pros\\nGreat Graphics\\nGameplay is fun\\nParis l...</td>\n",
       "      <td>pros\\ngreat graphics\\ngameplay is fun\\nparis l...</td>\n",
       "    </tr>\n",
       "    <tr>\n",
       "      <th>1224936</th>\n",
       "      <td>probe</td>\n",
       "      <td>58.4</td>\n",
       "      <td>262060</td>\n",
       "      <td>I'm so bad at this game but I really like it. ...</td>\n",
       "      <td>i'm so bad at this game but i really like it. ...</td>\n",
       "    </tr>\n",
       "    <tr>\n",
       "      <th>1224937</th>\n",
       "      <td>RDZ</td>\n",
       "      <td>12.5</td>\n",
       "      <td>207610</td>\n",
       "      <td>11/10 Would cry again.</td>\n",
       "      <td>11/10 would cry again.</td>\n",
       "    </tr>\n",
       "    <tr>\n",
       "      <th>1224938</th>\n",
       "      <td>Ex Nihiloish</td>\n",
       "      <td>8.3</td>\n",
       "      <td>262060</td>\n",
       "      <td>Super fun for the masochists.</td>\n",
       "      <td>super fun for the masochists.</td>\n",
       "    </tr>\n",
       "    <tr>\n",
       "      <th>1224939</th>\n",
       "      <td>mykel</td>\n",
       "      <td>18.7</td>\n",
       "      <td>262060</td>\n",
       "      <td>This is an amazing game, I am hooked. The narr...</td>\n",
       "      <td>this is an amazing game, i am hooked. the narr...</td>\n",
       "    </tr>\n",
       "  </tbody>\n",
       "</table>\n",
       "<p>1224940 rows × 5 columns</p>\n",
       "</div>"
      ],
      "text/plain": [
       "               username  hours  product_id  \\\n",
       "0            ₮ʜᴇ Wᴀʀᴛᴏɴ   51.1      328100   \n",
       "1           Cyderine916    5.0       35140   \n",
       "2        DarklyThinking   16.6       35140   \n",
       "3                Teef 🐏    0.9      725280   \n",
       "4          Sneaky_Panda    0.6      725280   \n",
       "...                 ...    ...         ...   \n",
       "1224935     TrickyDicky   20.4      289650   \n",
       "1224936           probe   58.4      262060   \n",
       "1224937             RDZ   12.5      207610   \n",
       "1224938    Ex Nihiloish    8.3      262060   \n",
       "1224939           mykel   18.7      262060   \n",
       "\n",
       "                                                      text  \\\n",
       "0                               looks like a facebook game   \n",
       "1        I love and idolized Batman and this game is Ma...   \n",
       "2        Still worth playing in 2018.\\nProbably my favo...   \n",
       "3                    hey thanks for stealing my spritework   \n",
       "4        If you take a discount - it's not a bad horror...   \n",
       "...                                                    ...   \n",
       "1224935  Pros\\nGreat Graphics\\nGameplay is fun\\nParis l...   \n",
       "1224936  I'm so bad at this game but I really like it. ...   \n",
       "1224937                             11/10 Would cry again.   \n",
       "1224938                      Super fun for the masochists.   \n",
       "1224939  This is an amazing game, I am hooked. The narr...   \n",
       "\n",
       "                                                str_review  \n",
       "0                               looks like a facebook game  \n",
       "1        i love and idolized batman and this game is ma...  \n",
       "2        still worth playing in 2018.\\nprobably my favo...  \n",
       "3                    hey thanks for stealing my spritework  \n",
       "4        if you take a discount - it's not a bad horror...  \n",
       "...                                                    ...  \n",
       "1224935  pros\\ngreat graphics\\ngameplay is fun\\nparis l...  \n",
       "1224936  i'm so bad at this game but i really like it. ...  \n",
       "1224937                             11/10 would cry again.  \n",
       "1224938                      super fun for the masochists.  \n",
       "1224939  this is an amazing game, i am hooked. the narr...  \n",
       "\n",
       "[1224940 rows x 5 columns]"
      ]
     },
     "execution_count": 41,
     "metadata": {},
     "output_type": "execute_result"
    }
   ],
   "source": [
    "steam_reviews_I"
   ]
  },
  {
   "cell_type": "markdown",
   "metadata": {},
   "source": [
    "Una vez realizado creada la columna totalmente en string, aplico la función ***detect_language*** a todas las reviews:"
   ]
  },
  {
   "cell_type": "code",
   "execution_count": 42,
   "metadata": {},
   "outputs": [
    {
     "name": "stdout",
     "output_type": "stream",
     "text": [
      "Wall time: 1h 50min 48s\n"
     ]
    }
   ],
   "source": [
    "%%time\n",
    "reviews_list = steam_reviews_I['str_review']\n",
    "lg_review=[]\n",
    "for review in reviews_list:\n",
    "    lg_review.append(detect_language(review))"
   ]
  },
  {
   "cell_type": "code",
   "execution_count": 43,
   "metadata": {},
   "outputs": [
    {
     "data": {
      "text/html": [
       "<div>\n",
       "<style scoped>\n",
       "    .dataframe tbody tr th:only-of-type {\n",
       "        vertical-align: middle;\n",
       "    }\n",
       "\n",
       "    .dataframe tbody tr th {\n",
       "        vertical-align: top;\n",
       "    }\n",
       "\n",
       "    .dataframe thead th {\n",
       "        text-align: right;\n",
       "    }\n",
       "</style>\n",
       "<table border=\"1\" class=\"dataframe\">\n",
       "  <thead>\n",
       "    <tr style=\"text-align: right;\">\n",
       "      <th></th>\n",
       "      <th>username</th>\n",
       "      <th>hours</th>\n",
       "      <th>product_id</th>\n",
       "      <th>text</th>\n",
       "      <th>str_review</th>\n",
       "      <th>lg_review</th>\n",
       "    </tr>\n",
       "  </thead>\n",
       "  <tbody>\n",
       "    <tr>\n",
       "      <th>0</th>\n",
       "      <td>₮ʜᴇ Wᴀʀᴛᴏɴ</td>\n",
       "      <td>51.1</td>\n",
       "      <td>328100</td>\n",
       "      <td>looks like a facebook game</td>\n",
       "      <td>looks like a facebook game</td>\n",
       "      <td>spanish</td>\n",
       "    </tr>\n",
       "    <tr>\n",
       "      <th>1</th>\n",
       "      <td>Cyderine916</td>\n",
       "      <td>5.0</td>\n",
       "      <td>35140</td>\n",
       "      <td>I love and idolized Batman and this game is Ma...</td>\n",
       "      <td>i love and idolized batman and this game is ma...</td>\n",
       "      <td>english</td>\n",
       "    </tr>\n",
       "    <tr>\n",
       "      <th>2</th>\n",
       "      <td>DarklyThinking</td>\n",
       "      <td>16.6</td>\n",
       "      <td>35140</td>\n",
       "      <td>Still worth playing in 2018.\\nProbably my favo...</td>\n",
       "      <td>still worth playing in 2018.\\nprobably my favo...</td>\n",
       "      <td>english</td>\n",
       "    </tr>\n",
       "    <tr>\n",
       "      <th>3</th>\n",
       "      <td>Teef 🐏</td>\n",
       "      <td>0.9</td>\n",
       "      <td>725280</td>\n",
       "      <td>hey thanks for stealing my spritework</td>\n",
       "      <td>hey thanks for stealing my spritework</td>\n",
       "      <td>english</td>\n",
       "    </tr>\n",
       "    <tr>\n",
       "      <th>4</th>\n",
       "      <td>Sneaky_Panda</td>\n",
       "      <td>0.6</td>\n",
       "      <td>725280</td>\n",
       "      <td>If you take a discount - it's not a bad horror...</td>\n",
       "      <td>if you take a discount - it's not a bad horror...</td>\n",
       "      <td>english</td>\n",
       "    </tr>\n",
       "    <tr>\n",
       "      <th>...</th>\n",
       "      <td>...</td>\n",
       "      <td>...</td>\n",
       "      <td>...</td>\n",
       "      <td>...</td>\n",
       "      <td>...</td>\n",
       "      <td>...</td>\n",
       "    </tr>\n",
       "    <tr>\n",
       "      <th>1224935</th>\n",
       "      <td>TrickyDicky</td>\n",
       "      <td>20.4</td>\n",
       "      <td>289650</td>\n",
       "      <td>Pros\\nGreat Graphics\\nGameplay is fun\\nParis l...</td>\n",
       "      <td>pros\\ngreat graphics\\ngameplay is fun\\nparis l...</td>\n",
       "      <td>english</td>\n",
       "    </tr>\n",
       "    <tr>\n",
       "      <th>1224936</th>\n",
       "      <td>probe</td>\n",
       "      <td>58.4</td>\n",
       "      <td>262060</td>\n",
       "      <td>I'm so bad at this game but I really like it. ...</td>\n",
       "      <td>i'm so bad at this game but i really like it. ...</td>\n",
       "      <td>english</td>\n",
       "    </tr>\n",
       "    <tr>\n",
       "      <th>1224937</th>\n",
       "      <td>RDZ</td>\n",
       "      <td>12.5</td>\n",
       "      <td>207610</td>\n",
       "      <td>11/10 Would cry again.</td>\n",
       "      <td>11/10 would cry again.</td>\n",
       "      <td>english</td>\n",
       "    </tr>\n",
       "    <tr>\n",
       "      <th>1224938</th>\n",
       "      <td>Ex Nihiloish</td>\n",
       "      <td>8.3</td>\n",
       "      <td>262060</td>\n",
       "      <td>Super fun for the masochists.</td>\n",
       "      <td>super fun for the masochists.</td>\n",
       "      <td>english</td>\n",
       "    </tr>\n",
       "    <tr>\n",
       "      <th>1224939</th>\n",
       "      <td>mykel</td>\n",
       "      <td>18.7</td>\n",
       "      <td>262060</td>\n",
       "      <td>This is an amazing game, I am hooked. The narr...</td>\n",
       "      <td>this is an amazing game, i am hooked. the narr...</td>\n",
       "      <td>english</td>\n",
       "    </tr>\n",
       "  </tbody>\n",
       "</table>\n",
       "<p>1224940 rows × 6 columns</p>\n",
       "</div>"
      ],
      "text/plain": [
       "               username  hours  product_id  \\\n",
       "0            ₮ʜᴇ Wᴀʀᴛᴏɴ   51.1      328100   \n",
       "1           Cyderine916    5.0       35140   \n",
       "2        DarklyThinking   16.6       35140   \n",
       "3                Teef 🐏    0.9      725280   \n",
       "4          Sneaky_Panda    0.6      725280   \n",
       "...                 ...    ...         ...   \n",
       "1224935     TrickyDicky   20.4      289650   \n",
       "1224936           probe   58.4      262060   \n",
       "1224937             RDZ   12.5      207610   \n",
       "1224938    Ex Nihiloish    8.3      262060   \n",
       "1224939           mykel   18.7      262060   \n",
       "\n",
       "                                                      text  \\\n",
       "0                               looks like a facebook game   \n",
       "1        I love and idolized Batman and this game is Ma...   \n",
       "2        Still worth playing in 2018.\\nProbably my favo...   \n",
       "3                    hey thanks for stealing my spritework   \n",
       "4        If you take a discount - it's not a bad horror...   \n",
       "...                                                    ...   \n",
       "1224935  Pros\\nGreat Graphics\\nGameplay is fun\\nParis l...   \n",
       "1224936  I'm so bad at this game but I really like it. ...   \n",
       "1224937                             11/10 Would cry again.   \n",
       "1224938                      Super fun for the masochists.   \n",
       "1224939  This is an amazing game, I am hooked. The narr...   \n",
       "\n",
       "                                                str_review lg_review  \n",
       "0                               looks like a facebook game   spanish  \n",
       "1        i love and idolized batman and this game is ma...   english  \n",
       "2        still worth playing in 2018.\\nprobably my favo...   english  \n",
       "3                    hey thanks for stealing my spritework   english  \n",
       "4        if you take a discount - it's not a bad horror...   english  \n",
       "...                                                    ...       ...  \n",
       "1224935  pros\\ngreat graphics\\ngameplay is fun\\nparis l...   english  \n",
       "1224936  i'm so bad at this game but i really like it. ...   english  \n",
       "1224937                             11/10 would cry again.   english  \n",
       "1224938                      super fun for the masochists.   english  \n",
       "1224939  this is an amazing game, i am hooked. the narr...   english  \n",
       "\n",
       "[1224940 rows x 6 columns]"
      ]
     },
     "execution_count": 43,
     "metadata": {},
     "output_type": "execute_result"
    }
   ],
   "source": [
    "steam_reviews_I['lg_review'] = lg_review\n",
    "steam_reviews_I"
   ]
  },
  {
   "cell_type": "code",
   "execution_count": 44,
   "metadata": {},
   "outputs": [
    {
     "data": {
      "text/html": [
       "<div>\n",
       "<style scoped>\n",
       "    .dataframe tbody tr th:only-of-type {\n",
       "        vertical-align: middle;\n",
       "    }\n",
       "\n",
       "    .dataframe tbody tr th {\n",
       "        vertical-align: top;\n",
       "    }\n",
       "\n",
       "    .dataframe thead th {\n",
       "        text-align: right;\n",
       "    }\n",
       "</style>\n",
       "<table border=\"1\" class=\"dataframe\">\n",
       "  <thead>\n",
       "    <tr style=\"text-align: right;\">\n",
       "      <th></th>\n",
       "      <th>lg_review</th>\n",
       "    </tr>\n",
       "  </thead>\n",
       "  <tbody>\n",
       "    <tr>\n",
       "      <th>english</th>\n",
       "      <td>1095097</td>\n",
       "    </tr>\n",
       "    <tr>\n",
       "      <th>spanish</th>\n",
       "      <td>121687</td>\n",
       "    </tr>\n",
       "    <tr>\n",
       "      <th>german</th>\n",
       "      <td>1464</td>\n",
       "    </tr>\n",
       "    <tr>\n",
       "      <th>russian</th>\n",
       "      <td>1410</td>\n",
       "    </tr>\n",
       "    <tr>\n",
       "      <th>dutch</th>\n",
       "      <td>1151</td>\n",
       "    </tr>\n",
       "    <tr>\n",
       "      <th>portuguese</th>\n",
       "      <td>1044</td>\n",
       "    </tr>\n",
       "    <tr>\n",
       "      <th>danish</th>\n",
       "      <td>822</td>\n",
       "    </tr>\n",
       "    <tr>\n",
       "      <th>italian</th>\n",
       "      <td>784</td>\n",
       "    </tr>\n",
       "    <tr>\n",
       "      <th>french</th>\n",
       "      <td>611</td>\n",
       "    </tr>\n",
       "    <tr>\n",
       "      <th>hungarian</th>\n",
       "      <td>345</td>\n",
       "    </tr>\n",
       "    <tr>\n",
       "      <th>turkish</th>\n",
       "      <td>211</td>\n",
       "    </tr>\n",
       "    <tr>\n",
       "      <th>norwegian</th>\n",
       "      <td>113</td>\n",
       "    </tr>\n",
       "    <tr>\n",
       "      <th>finnish</th>\n",
       "      <td>111</td>\n",
       "    </tr>\n",
       "    <tr>\n",
       "      <th>swedish</th>\n",
       "      <td>90</td>\n",
       "    </tr>\n",
       "  </tbody>\n",
       "</table>\n",
       "</div>"
      ],
      "text/plain": [
       "            lg_review\n",
       "english       1095097\n",
       "spanish        121687\n",
       "german           1464\n",
       "russian          1410\n",
       "dutch            1151\n",
       "portuguese       1044\n",
       "danish            822\n",
       "italian           784\n",
       "french            611\n",
       "hungarian         345\n",
       "turkish           211\n",
       "norwegian         113\n",
       "finnish           111\n",
       "swedish            90"
      ]
     },
     "execution_count": 44,
     "metadata": {},
     "output_type": "execute_result"
    }
   ],
   "source": [
    "steam_reviews_I.lg_review.value_counts().to_frame()"
   ]
  },
  {
   "cell_type": "markdown",
   "metadata": {},
   "source": [
    "Estudiando un poco el dataset descubrí que gran parte de los reviews clasificados en español están en realidad en inglés: "
   ]
  },
  {
   "cell_type": "code",
   "execution_count": 45,
   "metadata": {},
   "outputs": [
    {
     "data": {
      "text/html": [
       "<div>\n",
       "<style scoped>\n",
       "    .dataframe tbody tr th:only-of-type {\n",
       "        vertical-align: middle;\n",
       "    }\n",
       "\n",
       "    .dataframe tbody tr th {\n",
       "        vertical-align: top;\n",
       "    }\n",
       "\n",
       "    .dataframe thead th {\n",
       "        text-align: right;\n",
       "    }\n",
       "</style>\n",
       "<table border=\"1\" class=\"dataframe\">\n",
       "  <thead>\n",
       "    <tr style=\"text-align: right;\">\n",
       "      <th></th>\n",
       "      <th>username</th>\n",
       "      <th>hours</th>\n",
       "      <th>product_id</th>\n",
       "      <th>text</th>\n",
       "      <th>str_review</th>\n",
       "      <th>lg_review</th>\n",
       "    </tr>\n",
       "  </thead>\n",
       "  <tbody>\n",
       "    <tr>\n",
       "      <th>0</th>\n",
       "      <td>₮ʜᴇ Wᴀʀᴛᴏɴ</td>\n",
       "      <td>51.1</td>\n",
       "      <td>328100</td>\n",
       "      <td>looks like a facebook game</td>\n",
       "      <td>looks like a facebook game</td>\n",
       "      <td>spanish</td>\n",
       "    </tr>\n",
       "    <tr>\n",
       "      <th>11</th>\n",
       "      <td>Duha Nubie</td>\n",
       "      <td>11.3</td>\n",
       "      <td>35140</td>\n",
       "      <td>first debut feel sweet</td>\n",
       "      <td>first debut feel sweet</td>\n",
       "      <td>spanish</td>\n",
       "    </tr>\n",
       "    <tr>\n",
       "      <th>12</th>\n",
       "      <td>Jordan!</td>\n",
       "      <td>0.3</td>\n",
       "      <td>671270</td>\n",
       "      <td>Get a hat onto Uncle Moneybags.</td>\n",
       "      <td>get a hat onto uncle moneybags.</td>\n",
       "      <td>spanish</td>\n",
       "    </tr>\n",
       "    <tr>\n",
       "      <th>14</th>\n",
       "      <td>Weaky1100</td>\n",
       "      <td>1.3</td>\n",
       "      <td>350280</td>\n",
       "      <td>BADASS</td>\n",
       "      <td>badass</td>\n",
       "      <td>spanish</td>\n",
       "    </tr>\n",
       "    <tr>\n",
       "      <th>18</th>\n",
       "      <td>Kaelandros</td>\n",
       "      <td>1.5</td>\n",
       "      <td>328100</td>\n",
       "      <td>me likey likey</td>\n",
       "      <td>me likey likey</td>\n",
       "      <td>spanish</td>\n",
       "    </tr>\n",
       "    <tr>\n",
       "      <th>33</th>\n",
       "      <td>Zyphrus</td>\n",
       "      <td>12.3</td>\n",
       "      <td>288690</td>\n",
       "      <td>Nice little sudoku game.</td>\n",
       "      <td>nice little sudoku game.</td>\n",
       "      <td>spanish</td>\n",
       "    </tr>\n",
       "    <tr>\n",
       "      <th>58</th>\n",
       "      <td>Duncan</td>\n",
       "      <td>163.9</td>\n",
       "      <td>365560</td>\n",
       "      <td>Nice simple game. Old school area movement boa...</td>\n",
       "      <td>nice simple game. old school area movement boa...</td>\n",
       "      <td>spanish</td>\n",
       "    </tr>\n",
       "    <tr>\n",
       "      <th>63</th>\n",
       "      <td>Dew</td>\n",
       "      <td>0.2</td>\n",
       "      <td>288690</td>\n",
       "      <td>ужас</td>\n",
       "      <td>ужас</td>\n",
       "      <td>spanish</td>\n",
       "    </tr>\n",
       "    <tr>\n",
       "      <th>64</th>\n",
       "      <td>BARACK OBAMA</td>\n",
       "      <td>1.2</td>\n",
       "      <td>8880</td>\n",
       "      <td>Underrated classic</td>\n",
       "      <td>underrated classic</td>\n",
       "      <td>spanish</td>\n",
       "    </tr>\n",
       "    <tr>\n",
       "      <th>70</th>\n",
       "      <td>youarenxt1</td>\n",
       "      <td>12.3</td>\n",
       "      <td>350280</td>\n",
       "      <td>good........</td>\n",
       "      <td>good........</td>\n",
       "      <td>spanish</td>\n",
       "    </tr>\n",
       "    <tr>\n",
       "      <th>86</th>\n",
       "      <td>Friz</td>\n",
       "      <td>14.0</td>\n",
       "      <td>506510</td>\n",
       "      <td>Basically Final Fantasy Mystic Quest 2</td>\n",
       "      <td>basically final fantasy mystic quest 2</td>\n",
       "      <td>spanish</td>\n",
       "    </tr>\n",
       "    <tr>\n",
       "      <th>102</th>\n",
       "      <td>Jão</td>\n",
       "      <td>0.9</td>\n",
       "      <td>302390</td>\n",
       "      <td>...</td>\n",
       "      <td>...</td>\n",
       "      <td>spanish</td>\n",
       "    </tr>\n",
       "    <tr>\n",
       "      <th>114</th>\n",
       "      <td>Deleran</td>\n",
       "      <td>2.0</td>\n",
       "      <td>448800</td>\n",
       "      <td>Really nice little puzzle game. Somewhat short...</td>\n",
       "      <td>really nice little puzzle game. somewhat short...</td>\n",
       "      <td>spanish</td>\n",
       "    </tr>\n",
       "    <tr>\n",
       "      <th>127</th>\n",
       "      <td>Duality</td>\n",
       "      <td>0.2</td>\n",
       "      <td>363520</td>\n",
       "      <td>no</td>\n",
       "      <td>no</td>\n",
       "      <td>spanish</td>\n",
       "    </tr>\n",
       "    <tr>\n",
       "      <th>147</th>\n",
       "      <td>Hyper Mania</td>\n",
       "      <td>377.7</td>\n",
       "      <td>1840</td>\n",
       "      <td>Pretty cool program</td>\n",
       "      <td>pretty cool program</td>\n",
       "      <td>spanish</td>\n",
       "    </tr>\n",
       "  </tbody>\n",
       "</table>\n",
       "</div>"
      ],
      "text/plain": [
       "         username  hours  product_id  \\\n",
       "0      ₮ʜᴇ Wᴀʀᴛᴏɴ   51.1      328100   \n",
       "11     Duha Nubie   11.3       35140   \n",
       "12        Jordan!    0.3      671270   \n",
       "14      Weaky1100    1.3      350280   \n",
       "18     Kaelandros    1.5      328100   \n",
       "33        Zyphrus   12.3      288690   \n",
       "58         Duncan  163.9      365560   \n",
       "63            Dew    0.2      288690   \n",
       "64   BARACK OBAMA    1.2        8880   \n",
       "70     youarenxt1   12.3      350280   \n",
       "86           Friz   14.0      506510   \n",
       "102           Jão    0.9      302390   \n",
       "114       Deleran    2.0      448800   \n",
       "127       Duality    0.2      363520   \n",
       "147   Hyper Mania  377.7        1840   \n",
       "\n",
       "                                                  text  \\\n",
       "0                           looks like a facebook game   \n",
       "11                              first debut feel sweet   \n",
       "12                     Get a hat onto Uncle Moneybags.   \n",
       "14                                              BADASS   \n",
       "18                                      me likey likey   \n",
       "33                            Nice little sudoku game.   \n",
       "58   Nice simple game. Old school area movement boa...   \n",
       "63                                                ужас   \n",
       "64                                  Underrated classic   \n",
       "70                                        good........   \n",
       "86              Basically Final Fantasy Mystic Quest 2   \n",
       "102                                                ...   \n",
       "114  Really nice little puzzle game. Somewhat short...   \n",
       "127                                                 no   \n",
       "147                                Pretty cool program   \n",
       "\n",
       "                                            str_review lg_review  \n",
       "0                           looks like a facebook game   spanish  \n",
       "11                              first debut feel sweet   spanish  \n",
       "12                     get a hat onto uncle moneybags.   spanish  \n",
       "14                                              badass   spanish  \n",
       "18                                      me likey likey   spanish  \n",
       "33                            nice little sudoku game.   spanish  \n",
       "58   nice simple game. old school area movement boa...   spanish  \n",
       "63                                                ужас   spanish  \n",
       "64                                  underrated classic   spanish  \n",
       "70                                        good........   spanish  \n",
       "86              basically final fantasy mystic quest 2   spanish  \n",
       "102                                                ...   spanish  \n",
       "114  really nice little puzzle game. somewhat short...   spanish  \n",
       "127                                                 no   spanish  \n",
       "147                                pretty cool program   spanish  "
      ]
     },
     "execution_count": 45,
     "metadata": {},
     "output_type": "execute_result"
    }
   ],
   "source": [
    "steam_reviews_I[steam_reviews_I.lg_review == \"spanish\"].head(15)"
   ]
  },
  {
   "cell_type": "markdown",
   "metadata": {},
   "source": [
    "Para intentar solucionarlo voy a aplicar el siguiente ***np.select***.\n",
    "Este va a a buscar ciertas palabras en inglés que se repiten en las reviews clasificadas cómo español, y si las encuentra en esa review, va a reclasificarla en inglés."
   ]
  },
  {
   "cell_type": "code",
   "execution_count": 46,
   "metadata": {},
   "outputs": [
    {
     "name": "stdout",
     "output_type": "stream",
     "text": [
      "Wall time: 27.1 s\n",
      "Compiler : 231 ms\n",
      "Parser   : 115 ms\n"
     ]
    }
   ],
   "source": [
    "%%time\n",
    "steam_reviews_I.str_review = steam_reviews_I.str_review.str.lower()\n",
    "\n",
    "conditions1 = [\n",
    "    (steam_reviews_I['str_review'].str.contains(\"great\", na=False)),\n",
    "    (steam_reviews_I['str_review'].str.contains(\"game\", na=False)),\n",
    "    (steam_reviews_I['str_review'].str.contains(\"nice\", na=False)),\n",
    "    (steam_reviews_I['str_review'].str.contains(\"extremely\", na=False)),\n",
    "    (steam_reviews_I['str_review'].str.contains(\"good\", na=False)),\n",
    "    (steam_reviews_I['str_review'].str.contains(\"best\", na=False)),\n",
    "    (steam_reviews_I['str_review'].str.contains(\"complicated\", na=False)),\n",
    "    (steam_reviews_I['str_review'].str.contains(\"away\", na=False)),\n",
    "    (steam_reviews_I['str_review'].str.contains(\"dead\", na=False)),\n",
    "    (steam_reviews_I['str_review'].str.contains(\"yes\", na=False)),\n",
    "    (steam_reviews_I['str_review'].str.contains(\"yeah\", na=False)),\n",
    "    (steam_reviews_I['str_review'].str.contains(\"help\", na=False)),\n",
    "    (steam_reviews_I['str_review'].str.contains(\"garbage\", na=False)),\n",
    "    (steam_reviews_I['str_review'].str.contains(\"awesome\", na=False)),\n",
    "    (steam_reviews_I['str_review'].str.contains(\"awsome\", na=False)),\n",
    "    (steam_reviews_I['str_review'].str.contains(\"perfect\", na=False)),\n",
    "    (steam_reviews_I['str_review'].str.contains(\"cool\", na=False)),\n",
    "    (steam_reviews_I['str_review'].str.contains(\"again\", na=False)),\n",
    "    (steam_reviews_I['str_review'].str.contains(\"amazing\", na=False)),\n",
    "    (steam_reviews_I['str_review'].str.contains(\"boring\", na=False)),\n",
    "    (steam_reviews_I['str_review'].str.contains(\"masterpiece\", na=False)),\n",
    "    (steam_reviews_I['str_review'].str.contains(\"addict\", na=False)),\n",
    "    (steam_reviews_I['str_review'].str.contains(\"recommend\", na=False)),\n",
    "    (steam_reviews_I['str_review'].str.contains(\"really\", na=False)),\n",
    "    (steam_reviews_I['str_review'].str.contains(\"sweet\", na=False)),\n",
    "    (steam_reviews_I['str_review'].str.contains(\"hacker\", na=False))\n",
    "    ]\n",
    "\n",
    "values1 = [\"english\", \"english\", \"english\", \"english\", \"english\", \"english\",\"english\", \"english\", \"english\", \"english\", \"english\", \"english\", \"english\", \"english\", \"english\", \"english\",\"english\", \"english\", \"english\", \"english\", \"english\", \"english\", \"english\", \"english\", \"english\", \"english\"]\n",
    "\n",
    "steam_reviews_I['lg_review'] = np.select(conditions1, values1, default = steam_reviews_I['lg_review'])"
   ]
  },
  {
   "cell_type": "markdown",
   "metadata": {},
   "source": [
    "Nueva distribución de idiomas para los reviews:"
   ]
  },
  {
   "cell_type": "code",
   "execution_count": 47,
   "metadata": {},
   "outputs": [
    {
     "data": {
      "text/html": [
       "<div>\n",
       "<style scoped>\n",
       "    .dataframe tbody tr th:only-of-type {\n",
       "        vertical-align: middle;\n",
       "    }\n",
       "\n",
       "    .dataframe tbody tr th {\n",
       "        vertical-align: top;\n",
       "    }\n",
       "\n",
       "    .dataframe thead th {\n",
       "        text-align: right;\n",
       "    }\n",
       "</style>\n",
       "<table border=\"1\" class=\"dataframe\">\n",
       "  <thead>\n",
       "    <tr style=\"text-align: right;\">\n",
       "      <th></th>\n",
       "      <th>lg_review</th>\n",
       "    </tr>\n",
       "  </thead>\n",
       "  <tbody>\n",
       "    <tr>\n",
       "      <th>english</th>\n",
       "      <td>1148128</td>\n",
       "    </tr>\n",
       "    <tr>\n",
       "      <th>spanish</th>\n",
       "      <td>70427</td>\n",
       "    </tr>\n",
       "    <tr>\n",
       "      <th>russian</th>\n",
       "      <td>1363</td>\n",
       "    </tr>\n",
       "    <tr>\n",
       "      <th>german</th>\n",
       "      <td>1014</td>\n",
       "    </tr>\n",
       "    <tr>\n",
       "      <th>dutch</th>\n",
       "      <td>892</td>\n",
       "    </tr>\n",
       "    <tr>\n",
       "      <th>portuguese</th>\n",
       "      <td>803</td>\n",
       "    </tr>\n",
       "    <tr>\n",
       "      <th>italian</th>\n",
       "      <td>603</td>\n",
       "    </tr>\n",
       "    <tr>\n",
       "      <th>danish</th>\n",
       "      <td>521</td>\n",
       "    </tr>\n",
       "    <tr>\n",
       "      <th>french</th>\n",
       "      <td>500</td>\n",
       "    </tr>\n",
       "    <tr>\n",
       "      <th>hungarian</th>\n",
       "      <td>252</td>\n",
       "    </tr>\n",
       "    <tr>\n",
       "      <th>turkish</th>\n",
       "      <td>185</td>\n",
       "    </tr>\n",
       "    <tr>\n",
       "      <th>finnish</th>\n",
       "      <td>97</td>\n",
       "    </tr>\n",
       "    <tr>\n",
       "      <th>norwegian</th>\n",
       "      <td>83</td>\n",
       "    </tr>\n",
       "    <tr>\n",
       "      <th>swedish</th>\n",
       "      <td>72</td>\n",
       "    </tr>\n",
       "  </tbody>\n",
       "</table>\n",
       "</div>"
      ],
      "text/plain": [
       "            lg_review\n",
       "english       1148128\n",
       "spanish         70427\n",
       "russian          1363\n",
       "german           1014\n",
       "dutch             892\n",
       "portuguese        803\n",
       "italian           603\n",
       "danish            521\n",
       "french            500\n",
       "hungarian         252\n",
       "turkish           185\n",
       "finnish            97\n",
       "norwegian          83\n",
       "swedish            72"
      ]
     },
     "execution_count": 47,
     "metadata": {},
     "output_type": "execute_result"
    }
   ],
   "source": [
    "steam_reviews_I.lg_review.value_counts().to_frame()"
   ]
  },
  {
   "cell_type": "code",
   "execution_count": 48,
   "metadata": {},
   "outputs": [
    {
     "data": {
      "text/html": [
       "<div>\n",
       "<style scoped>\n",
       "    .dataframe tbody tr th:only-of-type {\n",
       "        vertical-align: middle;\n",
       "    }\n",
       "\n",
       "    .dataframe tbody tr th {\n",
       "        vertical-align: top;\n",
       "    }\n",
       "\n",
       "    .dataframe thead th {\n",
       "        text-align: right;\n",
       "    }\n",
       "</style>\n",
       "<table border=\"1\" class=\"dataframe\">\n",
       "  <thead>\n",
       "    <tr style=\"text-align: right;\">\n",
       "      <th></th>\n",
       "      <th>lg_review</th>\n",
       "    </tr>\n",
       "  </thead>\n",
       "  <tbody>\n",
       "    <tr>\n",
       "      <th>english</th>\n",
       "      <td>1148128</td>\n",
       "    </tr>\n",
       "  </tbody>\n",
       "</table>\n",
       "</div>"
      ],
      "text/plain": [
       "         lg_review\n",
       "english    1148128"
      ]
     },
     "execution_count": 48,
     "metadata": {},
     "output_type": "execute_result"
    }
   ],
   "source": [
    "steam_reviews_I = steam_reviews_I[steam_reviews_I[\"lg_review\"] == \"english\"]\n",
    "steam_reviews_I.lg_review.value_counts().to_frame()"
   ]
  },
  {
   "cell_type": "markdown",
   "metadata": {},
   "source": [
    "Guardo en un CSV el segundo Checkpoint del dataframe. Éste incluye:\n",
    "* Una nueva columna str_review, que es el resultado de transformar todos los registros de la columna ***text*** en string y en minúscula.  \n",
    "* Una nueva columna lg_review, en la que figura el idioma en el que fue escrito la review.\n",
    "* El descarte 51260 registros en otros idiomas distintos del inglés. \n",
    "\n",
    "Me quedan 1148128 registros para seguir trabajando."
   ]
  },
  {
   "cell_type": "code",
   "execution_count": 49,
   "metadata": {},
   "outputs": [],
   "source": [
    "steam_reviews_I.to_csv('steam_reviews_II.csv', index= False)\n",
    "steam_reviews_II = pd.read_csv('steam_reviews_II.csv')"
   ]
  },
  {
   "cell_type": "markdown",
   "metadata": {},
   "source": [
    "### b. Análisis de sentimientos de las reviews"
   ]
  },
  {
   "cell_type": "markdown",
   "metadata": {},
   "source": [
    "Armé una función para analizar los sentimientos de un string.\n",
    "Funciona de ésta manera:\n",
    "1. Necesita un string como parámetro.\n",
    "1. Arma con cada una de las palabras del string, una lista.\n",
    "1. En la lista de palabras revisa que no haya stopwords para el idioma ingles, y si encuentra las descarta.\n",
    "1. Vuelvo a transformar la lista en un string concatenado con espacios entre cada palabra.\n",
    "1. Aplico el analizador de sentimientos ***SentimentIntensityAnalyzer*** de la librería ***nltk***.\n",
    "1. La función evuelve el score ***compund*** resultante del analisis de sentimientos. Toma valores entre -1 y 1. Cuanto más cerca de 1, más positiva será la review del usuario, y cuanto más cerca de -1, más negativa."
   ]
  },
  {
   "cell_type": "code",
   "execution_count": 50,
   "metadata": {},
   "outputs": [],
   "source": [
    "stopwords = nltk.corpus.stopwords.words(\"english\")"
   ]
  },
  {
   "cell_type": "code",
   "execution_count": 51,
   "metadata": {},
   "outputs": [],
   "source": [
    "def Sentiment_Analyzer(x):\n",
    "    tokens = nltk.tokenize.word_tokenize(x)\n",
    "    tokens_wsw = [w for w in tokens if w.lower() not in stopwords]\n",
    "    analizador = SentimentIntensityAnalyzer()\n",
    "    sent_str = \"\"\n",
    "    for i in tokens_wsw:\n",
    "        sent_str += str(i) + \" \"\n",
    "    tokens_final = sent_str[:-1]\n",
    "    scores = analizador.polarity_scores(tokens_final)\n",
    "    return scores['compound']"
   ]
  },
  {
   "cell_type": "markdown",
   "metadata": {},
   "source": [
    "Aplico la función a mi dataset:"
   ]
  },
  {
   "cell_type": "code",
   "execution_count": 52,
   "metadata": {},
   "outputs": [
    {
     "name": "stdout",
     "output_type": "stream",
     "text": [
      "Wall time: 2h 26min 49s\n",
      "Parser   : 352 ms\n"
     ]
    }
   ],
   "source": [
    "%%time\n",
    "review_sent_list=[]\n",
    "for i in range(steam_reviews_II.shape[0]):\n",
    "    review = steam_reviews_II.iloc[i].str_review\n",
    "    review_sent_list.append(Sentiment_Analyzer(review))"
   ]
  },
  {
   "cell_type": "code",
   "execution_count": 53,
   "metadata": {},
   "outputs": [],
   "source": [
    "steam_reviews_II['sentiment_review'] = review_sent_list"
   ]
  },
  {
   "cell_type": "code",
   "execution_count": 54,
   "metadata": {},
   "outputs": [
    {
     "name": "stdout",
     "output_type": "stream",
     "text": [
      "Wall time: 1.31 s\n"
     ]
    },
    {
     "data": {
      "text/plain": [
       "count    1.148128e+06\n",
       "mean     7.215126e-01\n",
       "std      2.724572e-01\n",
       "min      0.000000e+00\n",
       "25%      5.000000e-01\n",
       "50%      8.184500e-01\n",
       "75%      9.455000e-01\n",
       "max      1.000000e+00\n",
       "Name: sentiment_review, dtype: float64"
      ]
     },
     "execution_count": 54,
     "metadata": {},
     "output_type": "execute_result"
    }
   ],
   "source": [
    "%%time\n",
    "scaler = MinMaxScaler()\n",
    "steam_reviews_Scal = steam_reviews_II.copy()\n",
    "steam_reviews_Scal = scaler.fit_transform(steam_reviews_Scal[[\"sentiment_review\"]])\n",
    "steam_reviews_II[\"sentiment_review\"] = steam_reviews_Scal\n",
    "steam_reviews_II[\"sentiment_review\"].describe()"
   ]
  },
  {
   "cell_type": "code",
   "execution_count": 55,
   "metadata": {},
   "outputs": [
    {
     "data": {
      "text/html": [
       "<div>\n",
       "<style scoped>\n",
       "    .dataframe tbody tr th:only-of-type {\n",
       "        vertical-align: middle;\n",
       "    }\n",
       "\n",
       "    .dataframe tbody tr th {\n",
       "        vertical-align: top;\n",
       "    }\n",
       "\n",
       "    .dataframe thead th {\n",
       "        text-align: right;\n",
       "    }\n",
       "</style>\n",
       "<table border=\"1\" class=\"dataframe\">\n",
       "  <thead>\n",
       "    <tr style=\"text-align: right;\">\n",
       "      <th></th>\n",
       "      <th>username</th>\n",
       "      <th>hours</th>\n",
       "      <th>product_id</th>\n",
       "      <th>text</th>\n",
       "      <th>str_review</th>\n",
       "      <th>lg_review</th>\n",
       "      <th>sentiment_review</th>\n",
       "    </tr>\n",
       "  </thead>\n",
       "  <tbody>\n",
       "    <tr>\n",
       "      <th>0</th>\n",
       "      <td>₮ʜᴇ Wᴀʀᴛᴏɴ</td>\n",
       "      <td>51.1</td>\n",
       "      <td>328100</td>\n",
       "      <td>looks like a facebook game</td>\n",
       "      <td>looks like a facebook game</td>\n",
       "      <td>english</td>\n",
       "      <td>0.68060</td>\n",
       "    </tr>\n",
       "    <tr>\n",
       "      <th>1</th>\n",
       "      <td>Cyderine916</td>\n",
       "      <td>5.0</td>\n",
       "      <td>35140</td>\n",
       "      <td>I love and idolized Batman and this game is Ma...</td>\n",
       "      <td>i love and idolized batman and this game is ma...</td>\n",
       "      <td>english</td>\n",
       "      <td>0.92595</td>\n",
       "    </tr>\n",
       "    <tr>\n",
       "      <th>2</th>\n",
       "      <td>DarklyThinking</td>\n",
       "      <td>16.6</td>\n",
       "      <td>35140</td>\n",
       "      <td>Still worth playing in 2018.\\nProbably my favo...</td>\n",
       "      <td>still worth playing in 2018.\\nprobably my favo...</td>\n",
       "      <td>english</td>\n",
       "      <td>0.64685</td>\n",
       "    </tr>\n",
       "    <tr>\n",
       "      <th>3</th>\n",
       "      <td>Teef 🐏</td>\n",
       "      <td>0.9</td>\n",
       "      <td>725280</td>\n",
       "      <td>hey thanks for stealing my spritework</td>\n",
       "      <td>hey thanks for stealing my spritework</td>\n",
       "      <td>english</td>\n",
       "      <td>0.39885</td>\n",
       "    </tr>\n",
       "    <tr>\n",
       "      <th>4</th>\n",
       "      <td>Sneaky_Panda</td>\n",
       "      <td>0.6</td>\n",
       "      <td>725280</td>\n",
       "      <td>If you take a discount - it's not a bad horror...</td>\n",
       "      <td>if you take a discount - it's not a bad horror...</td>\n",
       "      <td>english</td>\n",
       "      <td>0.09900</td>\n",
       "    </tr>\n",
       "    <tr>\n",
       "      <th>...</th>\n",
       "      <td>...</td>\n",
       "      <td>...</td>\n",
       "      <td>...</td>\n",
       "      <td>...</td>\n",
       "      <td>...</td>\n",
       "      <td>...</td>\n",
       "      <td>...</td>\n",
       "    </tr>\n",
       "    <tr>\n",
       "      <th>1148123</th>\n",
       "      <td>TrickyDicky</td>\n",
       "      <td>20.4</td>\n",
       "      <td>289650</td>\n",
       "      <td>Pros\\nGreat Graphics\\nGameplay is fun\\nParis l...</td>\n",
       "      <td>pros\\ngreat graphics\\ngameplay is fun\\nparis l...</td>\n",
       "      <td>english</td>\n",
       "      <td>0.99155</td>\n",
       "    </tr>\n",
       "    <tr>\n",
       "      <th>1148124</th>\n",
       "      <td>probe</td>\n",
       "      <td>58.4</td>\n",
       "      <td>262060</td>\n",
       "      <td>I'm so bad at this game but I really like it. ...</td>\n",
       "      <td>i'm so bad at this game but i really like it. ...</td>\n",
       "      <td>english</td>\n",
       "      <td>0.58270</td>\n",
       "    </tr>\n",
       "    <tr>\n",
       "      <th>1148125</th>\n",
       "      <td>RDZ</td>\n",
       "      <td>12.5</td>\n",
       "      <td>207610</td>\n",
       "      <td>11/10 Would cry again.</td>\n",
       "      <td>11/10 would cry again.</td>\n",
       "      <td>english</td>\n",
       "      <td>0.26165</td>\n",
       "    </tr>\n",
       "    <tr>\n",
       "      <th>1148126</th>\n",
       "      <td>Ex Nihiloish</td>\n",
       "      <td>8.3</td>\n",
       "      <td>262060</td>\n",
       "      <td>Super fun for the masochists.</td>\n",
       "      <td>super fun for the masochists.</td>\n",
       "      <td>english</td>\n",
       "      <td>0.85920</td>\n",
       "    </tr>\n",
       "    <tr>\n",
       "      <th>1148127</th>\n",
       "      <td>mykel</td>\n",
       "      <td>18.7</td>\n",
       "      <td>262060</td>\n",
       "      <td>This is an amazing game, I am hooked. The narr...</td>\n",
       "      <td>this is an amazing game, i am hooked. the narr...</td>\n",
       "      <td>english</td>\n",
       "      <td>0.88885</td>\n",
       "    </tr>\n",
       "  </tbody>\n",
       "</table>\n",
       "<p>1148128 rows × 7 columns</p>\n",
       "</div>"
      ],
      "text/plain": [
       "               username  hours  product_id  \\\n",
       "0            ₮ʜᴇ Wᴀʀᴛᴏɴ   51.1      328100   \n",
       "1           Cyderine916    5.0       35140   \n",
       "2        DarklyThinking   16.6       35140   \n",
       "3                Teef 🐏    0.9      725280   \n",
       "4          Sneaky_Panda    0.6      725280   \n",
       "...                 ...    ...         ...   \n",
       "1148123     TrickyDicky   20.4      289650   \n",
       "1148124           probe   58.4      262060   \n",
       "1148125             RDZ   12.5      207610   \n",
       "1148126    Ex Nihiloish    8.3      262060   \n",
       "1148127           mykel   18.7      262060   \n",
       "\n",
       "                                                      text  \\\n",
       "0                               looks like a facebook game   \n",
       "1        I love and idolized Batman and this game is Ma...   \n",
       "2        Still worth playing in 2018.\\nProbably my favo...   \n",
       "3                    hey thanks for stealing my spritework   \n",
       "4        If you take a discount - it's not a bad horror...   \n",
       "...                                                    ...   \n",
       "1148123  Pros\\nGreat Graphics\\nGameplay is fun\\nParis l...   \n",
       "1148124  I'm so bad at this game but I really like it. ...   \n",
       "1148125                             11/10 Would cry again.   \n",
       "1148126                      Super fun for the masochists.   \n",
       "1148127  This is an amazing game, I am hooked. The narr...   \n",
       "\n",
       "                                                str_review lg_review  \\\n",
       "0                               looks like a facebook game   english   \n",
       "1        i love and idolized batman and this game is ma...   english   \n",
       "2        still worth playing in 2018.\\nprobably my favo...   english   \n",
       "3                    hey thanks for stealing my spritework   english   \n",
       "4        if you take a discount - it's not a bad horror...   english   \n",
       "...                                                    ...       ...   \n",
       "1148123  pros\\ngreat graphics\\ngameplay is fun\\nparis l...   english   \n",
       "1148124  i'm so bad at this game but i really like it. ...   english   \n",
       "1148125                             11/10 would cry again.   english   \n",
       "1148126                      super fun for the masochists.   english   \n",
       "1148127  this is an amazing game, i am hooked. the narr...   english   \n",
       "\n",
       "         sentiment_review  \n",
       "0                 0.68060  \n",
       "1                 0.92595  \n",
       "2                 0.64685  \n",
       "3                 0.39885  \n",
       "4                 0.09900  \n",
       "...                   ...  \n",
       "1148123           0.99155  \n",
       "1148124           0.58270  \n",
       "1148125           0.26165  \n",
       "1148126           0.85920  \n",
       "1148127           0.88885  \n",
       "\n",
       "[1148128 rows x 7 columns]"
      ]
     },
     "execution_count": 55,
     "metadata": {},
     "output_type": "execute_result"
    }
   ],
   "source": [
    "steam_reviews_II"
   ]
  },
  {
   "cell_type": "markdown",
   "metadata": {},
   "source": [
    "Lograda la primer métrica para evaluar los reviews: ***sentiment_review***. Toma valores entre 0 y 1, cuando más negativa es la review, más cercana a cero es la métrica, y cuánto mas positiva es, más cercana a uno.\n",
    "    \n",
    "Voy a guardar en un CSV el tercer Checkpoint del dataframe. Éste incluye:\n",
    "* Una nueva columna ***sentiment_review***, la primer métrica para evaluar los reviews de los usuarios.\n",
    "\n",
    "Me quedan 723804 registros para seguir trabajando."
   ]
  },
  {
   "cell_type": "code",
   "execution_count": 56,
   "metadata": {},
   "outputs": [],
   "source": [
    "steam_reviews_II.to_csv('steam_reviews_III.csv', index= False)"
   ]
  },
  {
   "cell_type": "code",
   "execution_count": 115,
   "metadata": {},
   "outputs": [],
   "source": [
    "steam_reviews_III = pd.read_csv('steam_reviews_III.csv')"
   ]
  },
  {
   "cell_type": "markdown",
   "metadata": {},
   "source": [
    "## 2. Métrica por cantidad de horas jugadas"
   ]
  },
  {
   "cell_type": "markdown",
   "metadata": {},
   "source": [
    "### a. Tratamiento de valores atípicos"
   ]
  },
  {
   "cell_type": "markdown",
   "metadata": {},
   "source": [
    "Primero vamos a analizar y tratar los valores atípicos:"
   ]
  },
  {
   "cell_type": "code",
   "execution_count": 117,
   "metadata": {},
   "outputs": [
    {
     "data": {
      "image/png": "[encoded data removed]",
      "text/plain": [
       "<Figure size 432x288 with 1 Axes>"
      ]
     },
     "metadata": {},
     "output_type": "display_data"
    }
   ],
   "source": [
    "sns.boxplot(data = steam_reviews_III, y = \"hours\", color = \"purple\")\n",
    "plt.tight_layout()\n",
    "plt.show()"
   ]
  },
  {
   "cell_type": "code",
   "execution_count": 118,
   "metadata": {},
   "outputs": [
    {
     "data": {
      "text/plain": [
       "count    1.148128e+06\n",
       "mean     7.762841e+01\n",
       "std      2.843521e+02\n",
       "min      0.000000e+00\n",
       "25%      3.700000e+00\n",
       "50%      1.370000e+01\n",
       "75%      4.750000e+01\n",
       "max      4.210070e+04\n",
       "Name: hours, dtype: float64"
      ]
     },
     "execution_count": 118,
     "metadata": {},
     "output_type": "execute_result"
    }
   ],
   "source": [
    "steam_reviews_III.hours.describe()"
   ]
  },
  {
   "cell_type": "code",
   "execution_count": 119,
   "metadata": {},
   "outputs": [
    {
     "data": {
      "text/plain": [
       "506.3189999999944"
      ]
     },
     "execution_count": 119,
     "metadata": {},
     "output_type": "execute_result"
    }
   ],
   "source": [
    "np.percentile(steam_reviews_III.hours, 97)"
   ]
  },
  {
   "cell_type": "markdown",
   "metadata": {},
   "source": [
    "Voy a remplzar todos los registros donde la cantidad de horas jugadas sean superiores al percentil 97 (de esa variable), por el percetil 97 (506.31)."
   ]
  },
  {
   "cell_type": "code",
   "execution_count": 120,
   "metadata": {},
   "outputs": [
    {
     "name": "stdout",
     "output_type": "stream",
     "text": [
      "count    1.148128e+06\n",
      "mean     5.693817e+01\n",
      "std      1.099578e+02\n",
      "min      0.000000e+00\n",
      "25%      3.700000e+00\n",
      "50%      1.370000e+01\n",
      "75%      4.750000e+01\n",
      "max      5.063100e+02\n",
      "Name: hours, dtype: float64\n"
     ]
    }
   ],
   "source": [
    "a = np.array(steam_reviews_III['hours'].values.tolist())\n",
    "steam_reviews_III['hours'] = np.where(a > 506.31, 506.31, a).tolist()\n",
    "print(steam_reviews_III.hours.describe())"
   ]
  },
  {
   "cell_type": "code",
   "execution_count": 121,
   "metadata": {},
   "outputs": [
    {
     "data": {
      "image/png": "[encoded data removed]",
      "text/plain": [
       "<Figure size 432x288 with 1 Axes>"
      ]
     },
     "metadata": {},
     "output_type": "display_data"
    }
   ],
   "source": [
    "sns.boxplot(data = steam_reviews_III, y = \"hours\", color = \"purple\")\n",
    "plt.tight_layout()\n",
    "plt.show()"
   ]
  },
  {
   "cell_type": "markdown",
   "metadata": {},
   "source": [
    "Voy a revisar que no haya registros con horas jugadas iguales a cero:"
   ]
  },
  {
   "cell_type": "code",
   "execution_count": 123,
   "metadata": {},
   "outputs": [
    {
     "data": {
      "text/html": [
       "<div>\n",
       "<style scoped>\n",
       "    .dataframe tbody tr th:only-of-type {\n",
       "        vertical-align: middle;\n",
       "    }\n",
       "\n",
       "    .dataframe tbody tr th {\n",
       "        vertical-align: top;\n",
       "    }\n",
       "\n",
       "    .dataframe thead th {\n",
       "        text-align: right;\n",
       "    }\n",
       "</style>\n",
       "<table border=\"1\" class=\"dataframe\">\n",
       "  <thead>\n",
       "    <tr style=\"text-align: right;\">\n",
       "      <th></th>\n",
       "      <th>username</th>\n",
       "      <th>hours</th>\n",
       "      <th>product_id</th>\n",
       "      <th>text</th>\n",
       "      <th>str_review</th>\n",
       "      <th>lg_review</th>\n",
       "      <th>sentiment_review</th>\n",
       "    </tr>\n",
       "  </thead>\n",
       "  <tbody>\n",
       "    <tr>\n",
       "      <th>2345</th>\n",
       "      <td>DarkEvil</td>\n",
       "      <td>0.0</td>\n",
       "      <td>8880</td>\n",
       "      <td>This is a bit old and the controls will someti...</td>\n",
       "      <td>this is a bit old and the controls will someti...</td>\n",
       "      <td>english</td>\n",
       "      <td>0.91125</td>\n",
       "    </tr>\n",
       "    <tr>\n",
       "      <th>2427</th>\n",
       "      <td>Neemulus</td>\n",
       "      <td>0.0</td>\n",
       "      <td>8790</td>\n",
       "      <td>even today (Oct 2013), I still think this is o...</td>\n",
       "      <td>even today (oct 2013), i still think this is o...</td>\n",
       "      <td>english</td>\n",
       "      <td>0.50000</td>\n",
       "    </tr>\n",
       "    <tr>\n",
       "      <th>5361</th>\n",
       "      <td>Sophie</td>\n",
       "      <td>0.0</td>\n",
       "      <td>341720</td>\n",
       "      <td>I like it ：）</td>\n",
       "      <td>i like it ：）</td>\n",
       "      <td>english</td>\n",
       "      <td>0.68060</td>\n",
       "    </tr>\n",
       "    <tr>\n",
       "      <th>7382</th>\n",
       "      <td>The Chairman</td>\n",
       "      <td>0.0</td>\n",
       "      <td>26900</td>\n",
       "      <td>Gorgeous music, cute graphics and addicting ga...</td>\n",
       "      <td>gorgeous music, cute graphics and addicting ga...</td>\n",
       "      <td>english</td>\n",
       "      <td>0.89530</td>\n",
       "    </tr>\n",
       "    <tr>\n",
       "      <th>7705</th>\n",
       "      <td>theshadowscythe</td>\n",
       "      <td>0.0</td>\n",
       "      <td>7650</td>\n",
       "      <td>Xcom, but with added cthulu.\\nEnjoy.</td>\n",
       "      <td>xcom, but with added cthulu.\\nenjoy.</td>\n",
       "      <td>english</td>\n",
       "      <td>0.74695</td>\n",
       "    </tr>\n",
       "    <tr>\n",
       "      <th>...</th>\n",
       "      <td>...</td>\n",
       "      <td>...</td>\n",
       "      <td>...</td>\n",
       "      <td>...</td>\n",
       "      <td>...</td>\n",
       "      <td>...</td>\n",
       "      <td>...</td>\n",
       "    </tr>\n",
       "    <tr>\n",
       "      <th>1139803</th>\n",
       "      <td>jimbobforrest</td>\n",
       "      <td>0.0</td>\n",
       "      <td>285160</td>\n",
       "      <td>it says it works on mack but it doesnt im abso...</td>\n",
       "      <td>it says it works on mack but it doesnt im abso...</td>\n",
       "      <td>english</td>\n",
       "      <td>0.74865</td>\n",
       "    </tr>\n",
       "    <tr>\n",
       "      <th>1141822</th>\n",
       "      <td>Onemario1234</td>\n",
       "      <td>0.0</td>\n",
       "      <td>302830</td>\n",
       "      <td>you have to pay to unlock weapons. but besides...</td>\n",
       "      <td>you have to pay to unlock weapons. but besides...</td>\n",
       "      <td>english</td>\n",
       "      <td>0.78480</td>\n",
       "    </tr>\n",
       "    <tr>\n",
       "      <th>1142475</th>\n",
       "      <td>butthole</td>\n",
       "      <td>0.0</td>\n",
       "      <td>302830</td>\n",
       "      <td>10 corn dogs/13 chicken nuggets best uninstall...</td>\n",
       "      <td>10 corn dogs/13 chicken nuggets best uninstall...</td>\n",
       "      <td>english</td>\n",
       "      <td>0.81845</td>\n",
       "    </tr>\n",
       "    <tr>\n",
       "      <th>1142626</th>\n",
       "      <td>Blacksept69</td>\n",
       "      <td>0.0</td>\n",
       "      <td>207610</td>\n",
       "      <td>The Feels deeaaarrr god the ffffeeeeeeeeeellll...</td>\n",
       "      <td>the feels deeaaarrr god the ffffeeeeeeeeeellll...</td>\n",
       "      <td>english</td>\n",
       "      <td>0.75265</td>\n",
       "    </tr>\n",
       "    <tr>\n",
       "      <th>1147586</th>\n",
       "      <td>Mister Bright</td>\n",
       "      <td>0.0</td>\n",
       "      <td>70650</td>\n",
       "      <td>It's like Bust a Move, but you can move around...</td>\n",
       "      <td>it's like bust a move, but you can move around...</td>\n",
       "      <td>english</td>\n",
       "      <td>0.89530</td>\n",
       "    </tr>\n",
       "  </tbody>\n",
       "</table>\n",
       "<p>536 rows × 7 columns</p>\n",
       "</div>"
      ],
      "text/plain": [
       "                username  hours  product_id  \\\n",
       "2345            DarkEvil    0.0        8880   \n",
       "2427            Neemulus    0.0        8790   \n",
       "5361              Sophie    0.0      341720   \n",
       "7382        The Chairman    0.0       26900   \n",
       "7705     theshadowscythe    0.0        7650   \n",
       "...                  ...    ...         ...   \n",
       "1139803    jimbobforrest    0.0      285160   \n",
       "1141822     Onemario1234    0.0      302830   \n",
       "1142475         butthole    0.0      302830   \n",
       "1142626      Blacksept69    0.0      207610   \n",
       "1147586    Mister Bright    0.0       70650   \n",
       "\n",
       "                                                      text  \\\n",
       "2345     This is a bit old and the controls will someti...   \n",
       "2427     even today (Oct 2013), I still think this is o...   \n",
       "5361                                          I like it ：）   \n",
       "7382     Gorgeous music, cute graphics and addicting ga...   \n",
       "7705                  Xcom, but with added cthulu.\\nEnjoy.   \n",
       "...                                                    ...   \n",
       "1139803  it says it works on mack but it doesnt im abso...   \n",
       "1141822  you have to pay to unlock weapons. but besides...   \n",
       "1142475  10 corn dogs/13 chicken nuggets best uninstall...   \n",
       "1142626  The Feels deeaaarrr god the ffffeeeeeeeeeellll...   \n",
       "1147586  It's like Bust a Move, but you can move around...   \n",
       "\n",
       "                                                str_review lg_review  \\\n",
       "2345     this is a bit old and the controls will someti...   english   \n",
       "2427     even today (oct 2013), i still think this is o...   english   \n",
       "5361                                          i like it ：）   english   \n",
       "7382     gorgeous music, cute graphics and addicting ga...   english   \n",
       "7705                  xcom, but with added cthulu.\\nenjoy.   english   \n",
       "...                                                    ...       ...   \n",
       "1139803  it says it works on mack but it doesnt im abso...   english   \n",
       "1141822  you have to pay to unlock weapons. but besides...   english   \n",
       "1142475  10 corn dogs/13 chicken nuggets best uninstall...   english   \n",
       "1142626  the feels deeaaarrr god the ffffeeeeeeeeeellll...   english   \n",
       "1147586  it's like bust a move, but you can move around...   english   \n",
       "\n",
       "         sentiment_review  \n",
       "2345              0.91125  \n",
       "2427              0.50000  \n",
       "5361              0.68060  \n",
       "7382              0.89530  \n",
       "7705              0.74695  \n",
       "...                   ...  \n",
       "1139803           0.74865  \n",
       "1141822           0.78480  \n",
       "1142475           0.81845  \n",
       "1142626           0.75265  \n",
       "1147586           0.89530  \n",
       "\n",
       "[536 rows x 7 columns]"
      ]
     },
     "execution_count": 123,
     "metadata": {},
     "output_type": "execute_result"
    }
   ],
   "source": [
    "steam_reviews_III[steam_reviews_III.hours == 0]"
   ]
  },
  {
   "cell_type": "code",
   "execution_count": 124,
   "metadata": {},
   "outputs": [
    {
     "data": {
      "text/html": [
       "<div>\n",
       "<style scoped>\n",
       "    .dataframe tbody tr th:only-of-type {\n",
       "        vertical-align: middle;\n",
       "    }\n",
       "\n",
       "    .dataframe tbody tr th {\n",
       "        vertical-align: top;\n",
       "    }\n",
       "\n",
       "    .dataframe thead th {\n",
       "        text-align: right;\n",
       "    }\n",
       "</style>\n",
       "<table border=\"1\" class=\"dataframe\">\n",
       "  <thead>\n",
       "    <tr style=\"text-align: right;\">\n",
       "      <th></th>\n",
       "      <th>username</th>\n",
       "      <th>hours</th>\n",
       "      <th>product_id</th>\n",
       "      <th>text</th>\n",
       "      <th>str_review</th>\n",
       "      <th>lg_review</th>\n",
       "      <th>sentiment_review</th>\n",
       "    </tr>\n",
       "  </thead>\n",
       "  <tbody>\n",
       "  </tbody>\n",
       "</table>\n",
       "</div>"
      ],
      "text/plain": [
       "Empty DataFrame\n",
       "Columns: [username, hours, product_id, text, str_review, lg_review, sentiment_review]\n",
       "Index: []"
      ]
     },
     "execution_count": 124,
     "metadata": {},
     "output_type": "execute_result"
    }
   ],
   "source": [
    "steam_reviews_III = steam_reviews_III[(steam_reviews_III.hours > 0)]\n",
    "steam_reviews_III[steam_reviews_III.hours == 0]"
   ]
  },
  {
   "cell_type": "markdown",
   "metadata": {},
   "source": [
    "Ya tengo la segunda métrica para el sistema de recomendación: ***hours***. \n",
    "\n",
    "Voy a guardar en un CSV el cuarto Checkpoint del dataframe. Éste incluye:\n",
    "* Análisis y tratamiento de atípicos a la columna ***hours***.\n",
    "* Descarte los registros con cero horas jugadas"
   ]
  },
  {
   "cell_type": "code",
   "execution_count": 125,
   "metadata": {},
   "outputs": [],
   "source": [
    "steam_reviews_III.to_csv('steam_reviews_IV.csv', index= False)"
   ]
  },
  {
   "cell_type": "code",
   "execution_count": 126,
   "metadata": {},
   "outputs": [],
   "source": [
    "steam_reviews_IV = pd.read_csv('steam_reviews_IV.csv')"
   ]
  },
  {
   "cell_type": "markdown",
   "metadata": {},
   "source": [
    "Voy a controlar que no queden registros de usuarios con menos de 2 videojuegos jugados:"
   ]
  },
  {
   "cell_type": "code",
   "execution_count": 127,
   "metadata": {},
   "outputs": [
    {
     "name": "stderr",
     "output_type": "stream",
     "text": [
      "No handles with labels found to put in legend.\n"
     ]
    },
    {
     "data": {
      "text/plain": [
       "<matplotlib.legend.Legend at 0x1a036ae8fd0>"
      ]
     },
     "execution_count": 127,
     "metadata": {},
     "output_type": "execute_result"
    },
    {
     "data": {
      "image/png": "[encoded data removed]",
      "text/plain": [
       "<Figure size 432x288 with 1 Axes>"
      ]
     },
     "metadata": {},
     "output_type": "display_data"
    }
   ],
   "source": [
    "sns.countplot(x= steam_reviews_IV[\"username\"].value_counts(), data=steam_reviews_IV, palette=\"Set1\")\n",
    "plt.ylim(0,150000)\n",
    "plt.xlim(0,10)\n",
    "plt.legend()"
   ]
  },
  {
   "cell_type": "code",
   "execution_count": 128,
   "metadata": {},
   "outputs": [
    {
     "data": {
      "text/plain": [
       "count    307682.000000\n",
       "mean          3.729614\n",
       "std           3.716535\n",
       "min           1.000000\n",
       "25%           2.000000\n",
       "50%           3.000000\n",
       "75%           4.000000\n",
       "max          50.000000\n",
       "Name: username, dtype: float64"
      ]
     },
     "execution_count": 128,
     "metadata": {},
     "output_type": "execute_result"
    }
   ],
   "source": [
    "steam_reviews_IV[\"username\"].value_counts().describe()"
   ]
  },
  {
   "cell_type": "markdown",
   "metadata": {},
   "source": [
    "Se apuede apreciar en las celdas anteriores que quedan registros con usuarios con solo 1 juego jugado. Voy a proceder a descartar esas instancias:"
   ]
  },
  {
   "cell_type": "code",
   "execution_count": 129,
   "metadata": {},
   "outputs": [
    {
     "name": "stdout",
     "output_type": "stream",
     "text": [
      "Wall time: 526 ms\n"
     ]
    }
   ],
   "source": [
    "%%time\n",
    "mask = (steam_reviews_IV[\"username\"].value_counts() >= 2)\n",
    "trues =  mask.where(mask == True).dropna()\n",
    "lista = list(trues.index)"
   ]
  },
  {
   "cell_type": "code",
   "execution_count": 130,
   "metadata": {},
   "outputs": [
    {
     "name": "stdout",
     "output_type": "stream",
     "text": [
      "Wall time: 551 ms\n"
     ]
    },
    {
     "data": {
      "text/html": [
       "<div>\n",
       "<style scoped>\n",
       "    .dataframe tbody tr th:only-of-type {\n",
       "        vertical-align: middle;\n",
       "    }\n",
       "\n",
       "    .dataframe tbody tr th {\n",
       "        vertical-align: top;\n",
       "    }\n",
       "\n",
       "    .dataframe thead th {\n",
       "        text-align: right;\n",
       "    }\n",
       "</style>\n",
       "<table border=\"1\" class=\"dataframe\">\n",
       "  <thead>\n",
       "    <tr style=\"text-align: right;\">\n",
       "      <th></th>\n",
       "      <th>username</th>\n",
       "      <th>hours</th>\n",
       "      <th>product_id</th>\n",
       "      <th>text</th>\n",
       "      <th>str_review</th>\n",
       "      <th>lg_review</th>\n",
       "      <th>sentiment_review</th>\n",
       "    </tr>\n",
       "  </thead>\n",
       "  <tbody>\n",
       "    <tr>\n",
       "      <th>0</th>\n",
       "      <td>₮ʜᴇ Wᴀʀᴛᴏɴ</td>\n",
       "      <td>51.1</td>\n",
       "      <td>328100</td>\n",
       "      <td>looks like a facebook game</td>\n",
       "      <td>looks like a facebook game</td>\n",
       "      <td>english</td>\n",
       "      <td>0.68060</td>\n",
       "    </tr>\n",
       "    <tr>\n",
       "      <th>1</th>\n",
       "      <td>Cyderine916</td>\n",
       "      <td>5.0</td>\n",
       "      <td>35140</td>\n",
       "      <td>I love and idolized Batman and this game is Ma...</td>\n",
       "      <td>i love and idolized batman and this game is ma...</td>\n",
       "      <td>english</td>\n",
       "      <td>0.92595</td>\n",
       "    </tr>\n",
       "    <tr>\n",
       "      <th>2</th>\n",
       "      <td>DarklyThinking</td>\n",
       "      <td>16.6</td>\n",
       "      <td>35140</td>\n",
       "      <td>Still worth playing in 2018.\\nProbably my favo...</td>\n",
       "      <td>still worth playing in 2018.\\nprobably my favo...</td>\n",
       "      <td>english</td>\n",
       "      <td>0.64685</td>\n",
       "    </tr>\n",
       "    <tr>\n",
       "      <th>3</th>\n",
       "      <td>Teef 🐏</td>\n",
       "      <td>0.9</td>\n",
       "      <td>725280</td>\n",
       "      <td>hey thanks for stealing my spritework</td>\n",
       "      <td>hey thanks for stealing my spritework</td>\n",
       "      <td>english</td>\n",
       "      <td>0.39885</td>\n",
       "    </tr>\n",
       "    <tr>\n",
       "      <th>4</th>\n",
       "      <td>Sneaky_Panda</td>\n",
       "      <td>0.6</td>\n",
       "      <td>725280</td>\n",
       "      <td>If you take a discount - it's not a bad horror...</td>\n",
       "      <td>if you take a discount - it's not a bad horror...</td>\n",
       "      <td>english</td>\n",
       "      <td>0.09900</td>\n",
       "    </tr>\n",
       "    <tr>\n",
       "      <th>...</th>\n",
       "      <td>...</td>\n",
       "      <td>...</td>\n",
       "      <td>...</td>\n",
       "      <td>...</td>\n",
       "      <td>...</td>\n",
       "      <td>...</td>\n",
       "      <td>...</td>\n",
       "    </tr>\n",
       "    <tr>\n",
       "      <th>1147587</th>\n",
       "      <td>TrickyDicky</td>\n",
       "      <td>20.4</td>\n",
       "      <td>289650</td>\n",
       "      <td>Pros\\nGreat Graphics\\nGameplay is fun\\nParis l...</td>\n",
       "      <td>pros\\ngreat graphics\\ngameplay is fun\\nparis l...</td>\n",
       "      <td>english</td>\n",
       "      <td>0.99155</td>\n",
       "    </tr>\n",
       "    <tr>\n",
       "      <th>1147588</th>\n",
       "      <td>probe</td>\n",
       "      <td>58.4</td>\n",
       "      <td>262060</td>\n",
       "      <td>I'm so bad at this game but I really like it. ...</td>\n",
       "      <td>i'm so bad at this game but i really like it. ...</td>\n",
       "      <td>english</td>\n",
       "      <td>0.58270</td>\n",
       "    </tr>\n",
       "    <tr>\n",
       "      <th>1147589</th>\n",
       "      <td>RDZ</td>\n",
       "      <td>12.5</td>\n",
       "      <td>207610</td>\n",
       "      <td>11/10 Would cry again.</td>\n",
       "      <td>11/10 would cry again.</td>\n",
       "      <td>english</td>\n",
       "      <td>0.26165</td>\n",
       "    </tr>\n",
       "    <tr>\n",
       "      <th>1147590</th>\n",
       "      <td>Ex Nihiloish</td>\n",
       "      <td>8.3</td>\n",
       "      <td>262060</td>\n",
       "      <td>Super fun for the masochists.</td>\n",
       "      <td>super fun for the masochists.</td>\n",
       "      <td>english</td>\n",
       "      <td>0.85920</td>\n",
       "    </tr>\n",
       "    <tr>\n",
       "      <th>1147591</th>\n",
       "      <td>mykel</td>\n",
       "      <td>18.7</td>\n",
       "      <td>262060</td>\n",
       "      <td>This is an amazing game, I am hooked. The narr...</td>\n",
       "      <td>this is an amazing game, i am hooked. the narr...</td>\n",
       "      <td>english</td>\n",
       "      <td>0.88885</td>\n",
       "    </tr>\n",
       "  </tbody>\n",
       "</table>\n",
       "<p>1134141 rows × 7 columns</p>\n",
       "</div>"
      ],
      "text/plain": [
       "               username  hours  product_id  \\\n",
       "0            ₮ʜᴇ Wᴀʀᴛᴏɴ   51.1      328100   \n",
       "1           Cyderine916    5.0       35140   \n",
       "2        DarklyThinking   16.6       35140   \n",
       "3                Teef 🐏    0.9      725280   \n",
       "4          Sneaky_Panda    0.6      725280   \n",
       "...                 ...    ...         ...   \n",
       "1147587     TrickyDicky   20.4      289650   \n",
       "1147588           probe   58.4      262060   \n",
       "1147589             RDZ   12.5      207610   \n",
       "1147590    Ex Nihiloish    8.3      262060   \n",
       "1147591           mykel   18.7      262060   \n",
       "\n",
       "                                                      text  \\\n",
       "0                               looks like a facebook game   \n",
       "1        I love and idolized Batman and this game is Ma...   \n",
       "2        Still worth playing in 2018.\\nProbably my favo...   \n",
       "3                    hey thanks for stealing my spritework   \n",
       "4        If you take a discount - it's not a bad horror...   \n",
       "...                                                    ...   \n",
       "1147587  Pros\\nGreat Graphics\\nGameplay is fun\\nParis l...   \n",
       "1147588  I'm so bad at this game but I really like it. ...   \n",
       "1147589                             11/10 Would cry again.   \n",
       "1147590                      Super fun for the masochists.   \n",
       "1147591  This is an amazing game, I am hooked. The narr...   \n",
       "\n",
       "                                                str_review lg_review  \\\n",
       "0                               looks like a facebook game   english   \n",
       "1        i love and idolized batman and this game is ma...   english   \n",
       "2        still worth playing in 2018.\\nprobably my favo...   english   \n",
       "3                    hey thanks for stealing my spritework   english   \n",
       "4        if you take a discount - it's not a bad horror...   english   \n",
       "...                                                    ...       ...   \n",
       "1147587  pros\\ngreat graphics\\ngameplay is fun\\nparis l...   english   \n",
       "1147588  i'm so bad at this game but i really like it. ...   english   \n",
       "1147589                             11/10 would cry again.   english   \n",
       "1147590                      super fun for the masochists.   english   \n",
       "1147591  this is an amazing game, i am hooked. the narr...   english   \n",
       "\n",
       "         sentiment_review  \n",
       "0                 0.68060  \n",
       "1                 0.92595  \n",
       "2                 0.64685  \n",
       "3                 0.39885  \n",
       "4                 0.09900  \n",
       "...                   ...  \n",
       "1147587           0.99155  \n",
       "1147588           0.58270  \n",
       "1147589           0.26165  \n",
       "1147590           0.85920  \n",
       "1147591           0.88885  \n",
       "\n",
       "[1134141 rows x 7 columns]"
      ]
     },
     "execution_count": 130,
     "metadata": {},
     "output_type": "execute_result"
    }
   ],
   "source": [
    "%%time\n",
    "steam_reviews_V =  steam_reviews_IV[steam_reviews_IV[\"username\"].isin(lista)]\n",
    "steam_reviews_V"
   ]
  },
  {
   "cell_type": "markdown",
   "metadata": {},
   "source": [
    "Caracterísiticas del dataset final:"
   ]
  },
  {
   "cell_type": "markdown",
   "metadata": {},
   "source": [
    "### Otras métricas analizadas:"
   ]
  },
  {
   "cell_type": "code",
   "execution_count": 17,
   "metadata": {},
   "outputs": [
    {
     "name": "stdout",
     "output_type": "stream",
     "text": [
      "Cantidad de registros: 1134141\n",
      "Cantidad de usuarios: 294288\n",
      "Cantidad de mínima de videojuegos jugados por usuario: 2\n",
      "Cantidad de máxima de videojuegos jugados por usuario: 50\n",
      "Promedio de videojuegos jugados por usuario: 3.853847251671832\n",
      "Promedio de horas jugadas: 57.024737753065985\n"
     ]
    }
   ],
   "source": [
    "print(\"Cantidad de registros:\", steam_reviews_V.shape[0])\n",
    "print(\"Cantidad de usuarios:\", steam_reviews_V[\"username\"].value_counts().shape[0])\n",
    "print(\"Cantidad de mínima de videojuegos jugados por usuario:\", steam_reviews_V[\"username\"].value_counts().min())\n",
    "print(\"Cantidad de máxima de videojuegos jugados por usuario:\", steam_reviews_V[\"username\"].value_counts().max())\n",
    "print(\"Promedio de videojuegos jugados por usuario:\", steam_reviews_V[\"username\"].value_counts().mean())\n",
    "print(\"Promedio de horas jugadas:\", steam_reviews_V[\"hours\"].mean())"
   ]
  },
  {
   "cell_type": "markdown",
   "metadata": {},
   "source": [
    "Este es el dataset que al que voy a volver en caso que la métrica seleccionada para la calificación no tenga buenos resultados."
   ]
  },
  {
   "cell_type": "code",
   "execution_count": 132,
   "metadata": {},
   "outputs": [],
   "source": [
    "steam_reviews_V.to_csv('steam_reviews_V.csv', index= False)"
   ]
  },
  {
   "cell_type": "code",
   "execution_count": 10,
   "metadata": {},
   "outputs": [],
   "source": [
    "steam_reviews_V = pd.read_csv('steam_reviews_V.csv')"
   ]
  },
  {
   "cell_type": "markdown",
   "metadata": {},
   "source": [
    "## 3. Métrica Score"
   ]
  },
  {
   "cell_type": "code",
   "execution_count": 18,
   "metadata": {},
   "outputs": [],
   "source": [
    "steam_reviews_V[\"score\"] = steam_reviews_V[\"hours\"] * steam_reviews_V[\"sentiment_review\"]"
   ]
  },
  {
   "cell_type": "code",
   "execution_count": 19,
   "metadata": {},
   "outputs": [],
   "source": [
    "P20, P40, P60, P80 = steam_reviews_V.score.quantile([0.20, 0.40, 0.60, 0.8])"
   ]
  },
  {
   "cell_type": "code",
   "execution_count": 20,
   "metadata": {},
   "outputs": [],
   "source": [
    "conditions = [\n",
    "    (steam_reviews_V[\"score\"] <= P20),\n",
    "    (steam_reviews_V[\"score\"] > P20) & (steam_reviews_V[\"score\"] <= P40),\n",
    "    (steam_reviews_V[\"score\"] > P40) & (steam_reviews_V[\"score\"] <= P60),\n",
    "    (steam_reviews_V[\"score\"] > P60) & (steam_reviews_V[\"score\"] <= P80),\n",
    "    (steam_reviews_V[\"score\"] > P80)\n",
    "    ]\n",
    "values = [1, 2, 3, 4, 5]\n",
    "\n",
    "steam_reviews_V[\"score\"] = np.select(conditions, (values))"
   ]
  },
  {
   "cell_type": "code",
   "execution_count": 21,
   "metadata": {},
   "outputs": [
    {
     "data": {
      "text/plain": [
       "count    1.134141e+06\n",
       "mean     2.999992e+00\n",
       "std      1.414219e+00\n",
       "min      1.000000e+00\n",
       "25%      2.000000e+00\n",
       "50%      3.000000e+00\n",
       "75%      4.000000e+00\n",
       "max      5.000000e+00\n",
       "Name: score, dtype: float64"
      ]
     },
     "execution_count": 21,
     "metadata": {},
     "output_type": "execute_result"
    }
   ],
   "source": [
    "steam_reviews_V.score.describe()"
   ]
  },
  {
   "cell_type": "markdown",
   "metadata": {},
   "source": [
    "La columna ***score*** la columna es la calificación de parte de los usuarios de steam, para armar el sistema de recomendación.\n"
   ]
  },
  {
   "cell_type": "markdown",
   "metadata": {},
   "source": [
    "Guardo en un CSV el quinto Checkpoint del dataframe. Éste incluye:\n",
    "* Una nueva variable ***score***, que es el resultado de la multiplicación de la columna ***sentiment_review*** y ***hours***.\n"
   ]
  },
  {
   "cell_type": "code",
   "execution_count": 22,
   "metadata": {},
   "outputs": [],
   "source": [
    "steam_reviews_VI = steam_reviews_V[[\"username\", \"product_id\", \"score\"]]"
   ]
  },
  {
   "cell_type": "code",
   "execution_count": 23,
   "metadata": {},
   "outputs": [
    {
     "data": {
      "text/html": [
       "<div>\n",
       "<style scoped>\n",
       "    .dataframe tbody tr th:only-of-type {\n",
       "        vertical-align: middle;\n",
       "    }\n",
       "\n",
       "    .dataframe tbody tr th {\n",
       "        vertical-align: top;\n",
       "    }\n",
       "\n",
       "    .dataframe thead th {\n",
       "        text-align: right;\n",
       "    }\n",
       "</style>\n",
       "<table border=\"1\" class=\"dataframe\">\n",
       "  <thead>\n",
       "    <tr style=\"text-align: right;\">\n",
       "      <th></th>\n",
       "      <th>username</th>\n",
       "      <th>product_id</th>\n",
       "      <th>score</th>\n",
       "    </tr>\n",
       "  </thead>\n",
       "  <tbody>\n",
       "    <tr>\n",
       "      <th>0</th>\n",
       "      <td>₮ʜᴇ Wᴀʀᴛᴏɴ</td>\n",
       "      <td>328100</td>\n",
       "      <td>4</td>\n",
       "    </tr>\n",
       "    <tr>\n",
       "      <th>1</th>\n",
       "      <td>Cyderine916</td>\n",
       "      <td>35140</td>\n",
       "      <td>2</td>\n",
       "    </tr>\n",
       "    <tr>\n",
       "      <th>2</th>\n",
       "      <td>DarklyThinking</td>\n",
       "      <td>35140</td>\n",
       "      <td>3</td>\n",
       "    </tr>\n",
       "    <tr>\n",
       "      <th>3</th>\n",
       "      <td>Teef 🐏</td>\n",
       "      <td>725280</td>\n",
       "      <td>1</td>\n",
       "    </tr>\n",
       "    <tr>\n",
       "      <th>4</th>\n",
       "      <td>Sneaky_Panda</td>\n",
       "      <td>725280</td>\n",
       "      <td>1</td>\n",
       "    </tr>\n",
       "  </tbody>\n",
       "</table>\n",
       "</div>"
      ],
      "text/plain": [
       "         username  product_id  score\n",
       "0      ₮ʜᴇ Wᴀʀᴛᴏɴ      328100      4\n",
       "1     Cyderine916       35140      2\n",
       "2  DarklyThinking       35140      3\n",
       "3          Teef 🐏      725280      1\n",
       "4    Sneaky_Panda      725280      1"
      ]
     },
     "execution_count": 23,
     "metadata": {},
     "output_type": "execute_result"
    }
   ],
   "source": [
    "steam_reviews_VI.head()"
   ]
  },
  {
   "cell_type": "code",
   "execution_count": 24,
   "metadata": {},
   "outputs": [],
   "source": [
    "steam_reviews_VI.to_csv('steam_reviews_VI.csv', index= False)"
   ]
  },
  {
   "cell_type": "code",
   "execution_count": 25,
   "metadata": {},
   "outputs": [
    {
     "data": {
      "text/html": [
       "<div>\n",
       "<style scoped>\n",
       "    .dataframe tbody tr th:only-of-type {\n",
       "        vertical-align: middle;\n",
       "    }\n",
       "\n",
       "    .dataframe tbody tr th {\n",
       "        vertical-align: top;\n",
       "    }\n",
       "\n",
       "    .dataframe thead th {\n",
       "        text-align: right;\n",
       "    }\n",
       "</style>\n",
       "<table border=\"1\" class=\"dataframe\">\n",
       "  <thead>\n",
       "    <tr style=\"text-align: right;\">\n",
       "      <th></th>\n",
       "      <th>username</th>\n",
       "      <th>product_id</th>\n",
       "      <th>score</th>\n",
       "    </tr>\n",
       "  </thead>\n",
       "  <tbody>\n",
       "    <tr>\n",
       "      <th>0</th>\n",
       "      <td>₮ʜᴇ Wᴀʀᴛᴏɴ</td>\n",
       "      <td>328100</td>\n",
       "      <td>4</td>\n",
       "    </tr>\n",
       "    <tr>\n",
       "      <th>1</th>\n",
       "      <td>Cyderine916</td>\n",
       "      <td>35140</td>\n",
       "      <td>2</td>\n",
       "    </tr>\n",
       "    <tr>\n",
       "      <th>2</th>\n",
       "      <td>DarklyThinking</td>\n",
       "      <td>35140</td>\n",
       "      <td>3</td>\n",
       "    </tr>\n",
       "    <tr>\n",
       "      <th>3</th>\n",
       "      <td>Teef 🐏</td>\n",
       "      <td>725280</td>\n",
       "      <td>1</td>\n",
       "    </tr>\n",
       "    <tr>\n",
       "      <th>4</th>\n",
       "      <td>Sneaky_Panda</td>\n",
       "      <td>725280</td>\n",
       "      <td>1</td>\n",
       "    </tr>\n",
       "    <tr>\n",
       "      <th>...</th>\n",
       "      <td>...</td>\n",
       "      <td>...</td>\n",
       "      <td>...</td>\n",
       "    </tr>\n",
       "    <tr>\n",
       "      <th>1134136</th>\n",
       "      <td>TrickyDicky</td>\n",
       "      <td>289650</td>\n",
       "      <td>4</td>\n",
       "    </tr>\n",
       "    <tr>\n",
       "      <th>1134137</th>\n",
       "      <td>probe</td>\n",
       "      <td>262060</td>\n",
       "      <td>4</td>\n",
       "    </tr>\n",
       "    <tr>\n",
       "      <th>1134138</th>\n",
       "      <td>RDZ</td>\n",
       "      <td>207610</td>\n",
       "      <td>2</td>\n",
       "    </tr>\n",
       "    <tr>\n",
       "      <th>1134139</th>\n",
       "      <td>Ex Nihiloish</td>\n",
       "      <td>262060</td>\n",
       "      <td>3</td>\n",
       "    </tr>\n",
       "    <tr>\n",
       "      <th>1134140</th>\n",
       "      <td>mykel</td>\n",
       "      <td>262060</td>\n",
       "      <td>4</td>\n",
       "    </tr>\n",
       "  </tbody>\n",
       "</table>\n",
       "<p>1134141 rows × 3 columns</p>\n",
       "</div>"
      ],
      "text/plain": [
       "               username  product_id  score\n",
       "0            ₮ʜᴇ Wᴀʀᴛᴏɴ      328100      4\n",
       "1           Cyderine916       35140      2\n",
       "2        DarklyThinking       35140      3\n",
       "3                Teef 🐏      725280      1\n",
       "4          Sneaky_Panda      725280      1\n",
       "...                 ...         ...    ...\n",
       "1134136     TrickyDicky      289650      4\n",
       "1134137           probe      262060      4\n",
       "1134138             RDZ      207610      2\n",
       "1134139    Ex Nihiloish      262060      3\n",
       "1134140           mykel      262060      4\n",
       "\n",
       "[1134141 rows x 3 columns]"
      ]
     },
     "execution_count": 25,
     "metadata": {},
     "output_type": "execute_result"
    }
   ],
   "source": [
    "steam_reviews_VI = pd.read_csv('steam_reviews_VI.csv')\n",
    "steam_reviews_VI"
   ]
  },
  {
   "cell_type": "markdown",
   "metadata": {
    "id": "04ed3teRWT0T"
   },
   "source": [
    "### 4. **Game Titles**"
   ]
  },
  {
   "cell_type": "code",
   "execution_count": 16,
   "metadata": {
    "id": "8wRb24Y5WT0U"
   },
   "outputs": [],
   "source": [
    "data_games = []\n",
    "for l in parse('steam_games.json.gz'):\n",
    "    data_games.append(l)\n",
    "data_games = pd.DataFrame(data_games)"
   ]
  },
  {
   "cell_type": "code",
   "execution_count": 56,
   "metadata": {
    "id": "sVR0Cs6SWT0b"
   },
   "outputs": [
    {
     "data": {
      "text/html": [
       "<div>\n",
       "<style scoped>\n",
       "    .dataframe tbody tr th:only-of-type {\n",
       "        vertical-align: middle;\n",
       "    }\n",
       "\n",
       "    .dataframe tbody tr th {\n",
       "        vertical-align: top;\n",
       "    }\n",
       "\n",
       "    .dataframe thead th {\n",
       "        text-align: right;\n",
       "    }\n",
       "</style>\n",
       "<table border=\"1\" class=\"dataframe\">\n",
       "  <thead>\n",
       "    <tr style=\"text-align: right;\">\n",
       "      <th></th>\n",
       "      <th>publisher</th>\n",
       "      <th>genres</th>\n",
       "      <th>app_name</th>\n",
       "      <th>title</th>\n",
       "      <th>url</th>\n",
       "      <th>release_date</th>\n",
       "      <th>tags</th>\n",
       "      <th>discount_price</th>\n",
       "      <th>reviews_url</th>\n",
       "      <th>specs</th>\n",
       "      <th>price</th>\n",
       "      <th>early_access</th>\n",
       "      <th>id</th>\n",
       "      <th>developer</th>\n",
       "      <th>sentiment</th>\n",
       "      <th>metascore</th>\n",
       "    </tr>\n",
       "  </thead>\n",
       "  <tbody>\n",
       "    <tr>\n",
       "      <th>0</th>\n",
       "      <td>Kotoshiro</td>\n",
       "      <td>['Action', 'Casual', 'Indie', 'Simulation', 'S...</td>\n",
       "      <td>Lost Summoner Kitty</td>\n",
       "      <td>Lost Summoner Kitty</td>\n",
       "      <td>http://store.steampowered.com/app/761140/Lost_...</td>\n",
       "      <td>2018-01-04</td>\n",
       "      <td>['Strategy', 'Action', 'Indie', 'Casual', 'Sim...</td>\n",
       "      <td>4.49</td>\n",
       "      <td>http://steamcommunity.com/app/761140/reviews/?...</td>\n",
       "      <td>['Single-player']</td>\n",
       "      <td>4.99</td>\n",
       "      <td>False</td>\n",
       "      <td>761140.0</td>\n",
       "      <td>Kotoshiro</td>\n",
       "      <td>NaN</td>\n",
       "      <td>NaN</td>\n",
       "    </tr>\n",
       "    <tr>\n",
       "      <th>1</th>\n",
       "      <td>Making Fun, Inc.</td>\n",
       "      <td>['Free to Play', 'Indie', 'RPG', 'Strategy']</td>\n",
       "      <td>Ironbound</td>\n",
       "      <td>Ironbound</td>\n",
       "      <td>http://store.steampowered.com/app/643980/Ironb...</td>\n",
       "      <td>2018-01-04</td>\n",
       "      <td>['Free to Play', 'Strategy', 'Indie', 'RPG', '...</td>\n",
       "      <td>NaN</td>\n",
       "      <td>http://steamcommunity.com/app/643980/reviews/?...</td>\n",
       "      <td>['Single-player', 'Multi-player', 'Online Mult...</td>\n",
       "      <td>Free To Play</td>\n",
       "      <td>False</td>\n",
       "      <td>643980.0</td>\n",
       "      <td>Secret Level SRL</td>\n",
       "      <td>Mostly Positive</td>\n",
       "      <td>NaN</td>\n",
       "    </tr>\n",
       "    <tr>\n",
       "      <th>2</th>\n",
       "      <td>Poolians.com</td>\n",
       "      <td>['Casual', 'Free to Play', 'Indie', 'Simulatio...</td>\n",
       "      <td>Real Pool 3D - Poolians</td>\n",
       "      <td>Real Pool 3D - Poolians</td>\n",
       "      <td>http://store.steampowered.com/app/670290/Real_...</td>\n",
       "      <td>2017-07-24</td>\n",
       "      <td>['Free to Play', 'Simulation', 'Sports', 'Casu...</td>\n",
       "      <td>NaN</td>\n",
       "      <td>http://steamcommunity.com/app/670290/reviews/?...</td>\n",
       "      <td>['Single-player', 'Multi-player', 'Online Mult...</td>\n",
       "      <td>Free to Play</td>\n",
       "      <td>False</td>\n",
       "      <td>670290.0</td>\n",
       "      <td>Poolians.com</td>\n",
       "      <td>Mostly Positive</td>\n",
       "      <td>NaN</td>\n",
       "    </tr>\n",
       "    <tr>\n",
       "      <th>3</th>\n",
       "      <td>彼岸领域</td>\n",
       "      <td>['Action', 'Adventure', 'Casual']</td>\n",
       "      <td>弹炸人2222</td>\n",
       "      <td>弹炸人2222</td>\n",
       "      <td>http://store.steampowered.com/app/767400/2222/</td>\n",
       "      <td>2017-12-07</td>\n",
       "      <td>['Action', 'Adventure', 'Casual']</td>\n",
       "      <td>0.83</td>\n",
       "      <td>http://steamcommunity.com/app/767400/reviews/?...</td>\n",
       "      <td>['Single-player']</td>\n",
       "      <td>0.99</td>\n",
       "      <td>False</td>\n",
       "      <td>767400.0</td>\n",
       "      <td>彼岸领域</td>\n",
       "      <td>NaN</td>\n",
       "      <td>NaN</td>\n",
       "    </tr>\n",
       "    <tr>\n",
       "      <th>4</th>\n",
       "      <td>NaN</td>\n",
       "      <td>NaN</td>\n",
       "      <td>Log Challenge</td>\n",
       "      <td>NaN</td>\n",
       "      <td>http://store.steampowered.com/app/773570/Log_C...</td>\n",
       "      <td>NaN</td>\n",
       "      <td>['Action', 'Indie', 'Casual', 'Sports']</td>\n",
       "      <td>1.79</td>\n",
       "      <td>http://steamcommunity.com/app/773570/reviews/?...</td>\n",
       "      <td>['Single-player', 'Full controller support', '...</td>\n",
       "      <td>2.99</td>\n",
       "      <td>False</td>\n",
       "      <td>773570.0</td>\n",
       "      <td>NaN</td>\n",
       "      <td>NaN</td>\n",
       "      <td>NaN</td>\n",
       "    </tr>\n",
       "  </tbody>\n",
       "</table>\n",
       "</div>"
      ],
      "text/plain": [
       "          publisher                                             genres  \\\n",
       "0         Kotoshiro  ['Action', 'Casual', 'Indie', 'Simulation', 'S...   \n",
       "1  Making Fun, Inc.       ['Free to Play', 'Indie', 'RPG', 'Strategy']   \n",
       "2      Poolians.com  ['Casual', 'Free to Play', 'Indie', 'Simulatio...   \n",
       "3              彼岸领域                  ['Action', 'Adventure', 'Casual']   \n",
       "4               NaN                                                NaN   \n",
       "\n",
       "                  app_name                    title  \\\n",
       "0      Lost Summoner Kitty      Lost Summoner Kitty   \n",
       "1                Ironbound                Ironbound   \n",
       "2  Real Pool 3D - Poolians  Real Pool 3D - Poolians   \n",
       "3                  弹炸人2222                  弹炸人2222   \n",
       "4            Log Challenge                      NaN   \n",
       "\n",
       "                                                 url release_date  \\\n",
       "0  http://store.steampowered.com/app/761140/Lost_...   2018-01-04   \n",
       "1  http://store.steampowered.com/app/643980/Ironb...   2018-01-04   \n",
       "2  http://store.steampowered.com/app/670290/Real_...   2017-07-24   \n",
       "3     http://store.steampowered.com/app/767400/2222/   2017-12-07   \n",
       "4  http://store.steampowered.com/app/773570/Log_C...          NaN   \n",
       "\n",
       "                                                tags  discount_price  \\\n",
       "0  ['Strategy', 'Action', 'Indie', 'Casual', 'Sim...            4.49   \n",
       "1  ['Free to Play', 'Strategy', 'Indie', 'RPG', '...             NaN   \n",
       "2  ['Free to Play', 'Simulation', 'Sports', 'Casu...             NaN   \n",
       "3                  ['Action', 'Adventure', 'Casual']            0.83   \n",
       "4            ['Action', 'Indie', 'Casual', 'Sports']            1.79   \n",
       "\n",
       "                                         reviews_url  \\\n",
       "0  http://steamcommunity.com/app/761140/reviews/?...   \n",
       "1  http://steamcommunity.com/app/643980/reviews/?...   \n",
       "2  http://steamcommunity.com/app/670290/reviews/?...   \n",
       "3  http://steamcommunity.com/app/767400/reviews/?...   \n",
       "4  http://steamcommunity.com/app/773570/reviews/?...   \n",
       "\n",
       "                                               specs         price  \\\n",
       "0                                  ['Single-player']          4.99   \n",
       "1  ['Single-player', 'Multi-player', 'Online Mult...  Free To Play   \n",
       "2  ['Single-player', 'Multi-player', 'Online Mult...  Free to Play   \n",
       "3                                  ['Single-player']          0.99   \n",
       "4  ['Single-player', 'Full controller support', '...          2.99   \n",
       "\n",
       "   early_access        id         developer        sentiment  metascore  \n",
       "0         False  761140.0         Kotoshiro              NaN        NaN  \n",
       "1         False  643980.0  Secret Level SRL  Mostly Positive        NaN  \n",
       "2         False  670290.0      Poolians.com  Mostly Positive        NaN  \n",
       "3         False  767400.0              彼岸领域              NaN        NaN  \n",
       "4         False  773570.0               NaN              NaN        NaN  "
      ]
     },
     "execution_count": 56,
     "metadata": {},
     "output_type": "execute_result"
    }
   ],
   "source": [
    "steam_games = pd.read_csv('steam_games.csv')\n",
    "steam_games.head()"
   ]
  },
  {
   "cell_type": "markdown",
   "metadata": {},
   "source": [
    "Me quedo solo con las columnas que me resultan útiles para el sistema de recomendación:"
   ]
  },
  {
   "cell_type": "code",
   "execution_count": 32,
   "metadata": {},
   "outputs": [],
   "source": [
    "steam_games_inx = steam_games[[\"id\", \"app_name\"]]"
   ]
  },
  {
   "cell_type": "markdown",
   "metadata": {},
   "source": [
    "Reviso si hay valores faltantes:"
   ]
  },
  {
   "cell_type": "code",
   "execution_count": 33,
   "metadata": {},
   "outputs": [
    {
     "data": {
      "text/html": [
       "<div>\n",
       "<style scoped>\n",
       "    .dataframe tbody tr th:only-of-type {\n",
       "        vertical-align: middle;\n",
       "    }\n",
       "\n",
       "    .dataframe tbody tr th {\n",
       "        vertical-align: top;\n",
       "    }\n",
       "\n",
       "    .dataframe thead th {\n",
       "        text-align: right;\n",
       "    }\n",
       "</style>\n",
       "<table border=\"1\" class=\"dataframe\">\n",
       "  <thead>\n",
       "    <tr style=\"text-align: right;\">\n",
       "      <th></th>\n",
       "      <th>0</th>\n",
       "    </tr>\n",
       "  </thead>\n",
       "  <tbody>\n",
       "    <tr>\n",
       "      <th>id</th>\n",
       "      <td>2</td>\n",
       "    </tr>\n",
       "    <tr>\n",
       "      <th>app_name</th>\n",
       "      <td>2</td>\n",
       "    </tr>\n",
       "  </tbody>\n",
       "</table>\n",
       "</div>"
      ],
      "text/plain": [
       "          0\n",
       "id        2\n",
       "app_name  2"
      ]
     },
     "execution_count": 33,
     "metadata": {},
     "output_type": "execute_result"
    }
   ],
   "source": [
    "steam_games_inx.isna().sum().to_frame()"
   ]
  },
  {
   "cell_type": "markdown",
   "metadata": {},
   "source": [
    "Y cómo son poquitos, los descarto:"
   ]
  },
  {
   "cell_type": "code",
   "execution_count": 34,
   "metadata": {},
   "outputs": [
    {
     "name": "stderr",
     "output_type": "stream",
     "text": [
      "<ipython-input-34-d2f2a46617e9>:1: SettingWithCopyWarning: \n",
      "A value is trying to be set on a copy of a slice from a DataFrame\n",
      "\n",
      "See the caveats in the documentation: https://pandas.pydata.org/pandas-docs/stable/user_guide/indexing.html#returning-a-view-versus-a-copy\n",
      "  steam_games_inx.dropna(inplace=True)\n"
     ]
    }
   ],
   "source": [
    "steam_games_inx.dropna(inplace=True)"
   ]
  },
  {
   "cell_type": "code",
   "execution_count": 35,
   "metadata": {},
   "outputs": [
    {
     "data": {
      "text/html": [
       "<div>\n",
       "<style scoped>\n",
       "    .dataframe tbody tr th:only-of-type {\n",
       "        vertical-align: middle;\n",
       "    }\n",
       "\n",
       "    .dataframe tbody tr th {\n",
       "        vertical-align: top;\n",
       "    }\n",
       "\n",
       "    .dataframe thead th {\n",
       "        text-align: right;\n",
       "    }\n",
       "</style>\n",
       "<table border=\"1\" class=\"dataframe\">\n",
       "  <thead>\n",
       "    <tr style=\"text-align: right;\">\n",
       "      <th></th>\n",
       "      <th>0</th>\n",
       "    </tr>\n",
       "  </thead>\n",
       "  <tbody>\n",
       "    <tr>\n",
       "      <th>id</th>\n",
       "      <td>0</td>\n",
       "    </tr>\n",
       "    <tr>\n",
       "      <th>app_name</th>\n",
       "      <td>0</td>\n",
       "    </tr>\n",
       "  </tbody>\n",
       "</table>\n",
       "</div>"
      ],
      "text/plain": [
       "          0\n",
       "id        0\n",
       "app_name  0"
      ]
     },
     "execution_count": 35,
     "metadata": {},
     "output_type": "execute_result"
    }
   ],
   "source": [
    "steam_games_inx.isna().sum().to_frame()"
   ]
  },
  {
   "cell_type": "code",
   "execution_count": 39,
   "metadata": {},
   "outputs": [
    {
     "data": {
      "text/html": [
       "<div>\n",
       "<style scoped>\n",
       "    .dataframe tbody tr th:only-of-type {\n",
       "        vertical-align: middle;\n",
       "    }\n",
       "\n",
       "    .dataframe tbody tr th {\n",
       "        vertical-align: top;\n",
       "    }\n",
       "\n",
       "    .dataframe thead th {\n",
       "        text-align: right;\n",
       "    }\n",
       "</style>\n",
       "<table border=\"1\" class=\"dataframe\">\n",
       "  <thead>\n",
       "    <tr style=\"text-align: right;\">\n",
       "      <th></th>\n",
       "      <th>id</th>\n",
       "      <th>app_name</th>\n",
       "    </tr>\n",
       "  </thead>\n",
       "  <tbody>\n",
       "    <tr>\n",
       "      <th>0</th>\n",
       "      <td>761140</td>\n",
       "      <td>Lost Summoner Kitty</td>\n",
       "    </tr>\n",
       "    <tr>\n",
       "      <th>1</th>\n",
       "      <td>643980</td>\n",
       "      <td>Ironbound</td>\n",
       "    </tr>\n",
       "    <tr>\n",
       "      <th>2</th>\n",
       "      <td>670290</td>\n",
       "      <td>Real Pool 3D - Poolians</td>\n",
       "    </tr>\n",
       "    <tr>\n",
       "      <th>3</th>\n",
       "      <td>767400</td>\n",
       "      <td>弹炸人2222</td>\n",
       "    </tr>\n",
       "    <tr>\n",
       "      <th>4</th>\n",
       "      <td>773570</td>\n",
       "      <td>Log Challenge</td>\n",
       "    </tr>\n",
       "  </tbody>\n",
       "</table>\n",
       "</div>"
      ],
      "text/plain": [
       "       id                 app_name\n",
       "0  761140      Lost Summoner Kitty\n",
       "1  643980                Ironbound\n",
       "2  670290  Real Pool 3D - Poolians\n",
       "3  767400                  弹炸人2222\n",
       "4  773570            Log Challenge"
      ]
     },
     "execution_count": 39,
     "metadata": {},
     "output_type": "execute_result"
    }
   ],
   "source": [
    "steam_games_inx.head()"
   ]
  },
  {
   "cell_type": "markdown",
   "metadata": {},
   "source": [
    "Vuelvo a todos los valores de la columna ***id*** números enteros:"
   ]
  },
  {
   "cell_type": "code",
   "execution_count": 37,
   "metadata": {},
   "outputs": [
    {
     "name": "stderr",
     "output_type": "stream",
     "text": [
      "<ipython-input-37-e756ebad57be>:1: SettingWithCopyWarning: \n",
      "A value is trying to be set on a copy of a slice from a DataFrame.\n",
      "Try using .loc[row_indexer,col_indexer] = value instead\n",
      "\n",
      "See the caveats in the documentation: https://pandas.pydata.org/pandas-docs/stable/user_guide/indexing.html#returning-a-view-versus-a-copy\n",
      "  steam_games_inx['id'] = steam_games_inx.apply(lambda row: int(row.id), axis=1)\n"
     ]
    }
   ],
   "source": [
    "steam_games_inx['id'] = steam_games_inx.apply(lambda row: int(row.id), axis=1)"
   ]
  },
  {
   "cell_type": "code",
   "execution_count": 41,
   "metadata": {},
   "outputs": [
    {
     "data": {
      "text/html": [
       "<div>\n",
       "<style scoped>\n",
       "    .dataframe tbody tr th:only-of-type {\n",
       "        vertical-align: middle;\n",
       "    }\n",
       "\n",
       "    .dataframe tbody tr th {\n",
       "        vertical-align: top;\n",
       "    }\n",
       "\n",
       "    .dataframe thead th {\n",
       "        text-align: right;\n",
       "    }\n",
       "</style>\n",
       "<table border=\"1\" class=\"dataframe\">\n",
       "  <thead>\n",
       "    <tr style=\"text-align: right;\">\n",
       "      <th></th>\n",
       "      <th>id</th>\n",
       "      <th>app_name</th>\n",
       "    </tr>\n",
       "  </thead>\n",
       "  <tbody>\n",
       "    <tr>\n",
       "      <th>0</th>\n",
       "      <td>761140</td>\n",
       "      <td>Lost Summoner Kitty</td>\n",
       "    </tr>\n",
       "    <tr>\n",
       "      <th>1</th>\n",
       "      <td>643980</td>\n",
       "      <td>Ironbound</td>\n",
       "    </tr>\n",
       "    <tr>\n",
       "      <th>2</th>\n",
       "      <td>670290</td>\n",
       "      <td>Real Pool 3D - Poolians</td>\n",
       "    </tr>\n",
       "    <tr>\n",
       "      <th>3</th>\n",
       "      <td>767400</td>\n",
       "      <td>弹炸人2222</td>\n",
       "    </tr>\n",
       "    <tr>\n",
       "      <th>4</th>\n",
       "      <td>773570</td>\n",
       "      <td>Log Challenge</td>\n",
       "    </tr>\n",
       "  </tbody>\n",
       "</table>\n",
       "</div>"
      ],
      "text/plain": [
       "       id                 app_name\n",
       "0  761140      Lost Summoner Kitty\n",
       "1  643980                Ironbound\n",
       "2  670290  Real Pool 3D - Poolians\n",
       "3  767400                  弹炸人2222\n",
       "4  773570            Log Challenge"
      ]
     },
     "execution_count": 41,
     "metadata": {},
     "output_type": "execute_result"
    }
   ],
   "source": [
    "steam_games_inx.head()"
   ]
  },
  {
   "cell_type": "code",
   "execution_count": 42,
   "metadata": {},
   "outputs": [],
   "source": [
    "steam_games_inx.to_csv('steam_games_inx.csv', index= False)"
   ]
  },
  {
   "cell_type": "code",
   "execution_count": 43,
   "metadata": {},
   "outputs": [
    {
     "data": {
      "text/html": [
       "<div>\n",
       "<style scoped>\n",
       "    .dataframe tbody tr th:only-of-type {\n",
       "        vertical-align: middle;\n",
       "    }\n",
       "\n",
       "    .dataframe tbody tr th {\n",
       "        vertical-align: top;\n",
       "    }\n",
       "\n",
       "    .dataframe thead th {\n",
       "        text-align: right;\n",
       "    }\n",
       "</style>\n",
       "<table border=\"1\" class=\"dataframe\">\n",
       "  <thead>\n",
       "    <tr style=\"text-align: right;\">\n",
       "      <th></th>\n",
       "      <th>id</th>\n",
       "      <th>app_name</th>\n",
       "    </tr>\n",
       "  </thead>\n",
       "  <tbody>\n",
       "    <tr>\n",
       "      <th>0</th>\n",
       "      <td>761140</td>\n",
       "      <td>Lost Summoner Kitty</td>\n",
       "    </tr>\n",
       "    <tr>\n",
       "      <th>1</th>\n",
       "      <td>643980</td>\n",
       "      <td>Ironbound</td>\n",
       "    </tr>\n",
       "    <tr>\n",
       "      <th>2</th>\n",
       "      <td>670290</td>\n",
       "      <td>Real Pool 3D - Poolians</td>\n",
       "    </tr>\n",
       "    <tr>\n",
       "      <th>3</th>\n",
       "      <td>767400</td>\n",
       "      <td>弹炸人2222</td>\n",
       "    </tr>\n",
       "    <tr>\n",
       "      <th>4</th>\n",
       "      <td>773570</td>\n",
       "      <td>Log Challenge</td>\n",
       "    </tr>\n",
       "    <tr>\n",
       "      <th>...</th>\n",
       "      <td>...</td>\n",
       "      <td>...</td>\n",
       "    </tr>\n",
       "    <tr>\n",
       "      <th>32127</th>\n",
       "      <td>773640</td>\n",
       "      <td>Colony On Mars</td>\n",
       "    </tr>\n",
       "    <tr>\n",
       "      <th>32128</th>\n",
       "      <td>733530</td>\n",
       "      <td>LOGistICAL: South Africa</td>\n",
       "    </tr>\n",
       "    <tr>\n",
       "      <th>32129</th>\n",
       "      <td>610660</td>\n",
       "      <td>Russian Roads</td>\n",
       "    </tr>\n",
       "    <tr>\n",
       "      <th>32130</th>\n",
       "      <td>658870</td>\n",
       "      <td>EXIT 2 - Directions</td>\n",
       "    </tr>\n",
       "    <tr>\n",
       "      <th>32131</th>\n",
       "      <td>681550</td>\n",
       "      <td>Maze Run VR</td>\n",
       "    </tr>\n",
       "  </tbody>\n",
       "</table>\n",
       "<p>32132 rows × 2 columns</p>\n",
       "</div>"
      ],
      "text/plain": [
       "           id                  app_name\n",
       "0      761140       Lost Summoner Kitty\n",
       "1      643980                 Ironbound\n",
       "2      670290   Real Pool 3D - Poolians\n",
       "3      767400                   弹炸人2222\n",
       "4      773570             Log Challenge\n",
       "...       ...                       ...\n",
       "32127  773640            Colony On Mars\n",
       "32128  733530  LOGistICAL: South Africa\n",
       "32129  610660             Russian Roads\n",
       "32130  658870       EXIT 2 - Directions\n",
       "32131  681550               Maze Run VR\n",
       "\n",
       "[32132 rows x 2 columns]"
      ]
     },
     "execution_count": 43,
     "metadata": {},
     "output_type": "execute_result"
    }
   ],
   "source": [
    "steam_games_inx = pd.read_csv('steam_games_inx.csv')\n",
    "steam_games_inx"
   ]
  },
  {
   "cell_type": "markdown",
   "metadata": {},
   "source": [
    "## Modelo de Sistema de Recomendación"
   ]
  },
  {
   "cell_type": "markdown",
   "metadata": {},
   "source": [
    "#### Modelo Benchmark - Modelo SVD con los valores por defecto de los argumentos"
   ]
  },
  {
   "cell_type": "code",
   "execution_count": 44,
   "metadata": {},
   "outputs": [
    {
     "data": {
      "text/html": [
       "<div>\n",
       "<style scoped>\n",
       "    .dataframe tbody tr th:only-of-type {\n",
       "        vertical-align: middle;\n",
       "    }\n",
       "\n",
       "    .dataframe tbody tr th {\n",
       "        vertical-align: top;\n",
       "    }\n",
       "\n",
       "    .dataframe thead th {\n",
       "        text-align: right;\n",
       "    }\n",
       "</style>\n",
       "<table border=\"1\" class=\"dataframe\">\n",
       "  <thead>\n",
       "    <tr style=\"text-align: right;\">\n",
       "      <th></th>\n",
       "      <th>username</th>\n",
       "      <th>product_id</th>\n",
       "      <th>score</th>\n",
       "    </tr>\n",
       "  </thead>\n",
       "  <tbody>\n",
       "    <tr>\n",
       "      <th>0</th>\n",
       "      <td>₮ʜᴇ Wᴀʀᴛᴏɴ</td>\n",
       "      <td>328100</td>\n",
       "      <td>4</td>\n",
       "    </tr>\n",
       "    <tr>\n",
       "      <th>1</th>\n",
       "      <td>Cyderine916</td>\n",
       "      <td>35140</td>\n",
       "      <td>2</td>\n",
       "    </tr>\n",
       "    <tr>\n",
       "      <th>2</th>\n",
       "      <td>DarklyThinking</td>\n",
       "      <td>35140</td>\n",
       "      <td>3</td>\n",
       "    </tr>\n",
       "    <tr>\n",
       "      <th>3</th>\n",
       "      <td>Teef 🐏</td>\n",
       "      <td>725280</td>\n",
       "      <td>1</td>\n",
       "    </tr>\n",
       "    <tr>\n",
       "      <th>4</th>\n",
       "      <td>Sneaky_Panda</td>\n",
       "      <td>725280</td>\n",
       "      <td>1</td>\n",
       "    </tr>\n",
       "  </tbody>\n",
       "</table>\n",
       "</div>"
      ],
      "text/plain": [
       "         username  product_id  score\n",
       "0      ₮ʜᴇ Wᴀʀᴛᴏɴ      328100      4\n",
       "1     Cyderine916       35140      2\n",
       "2  DarklyThinking       35140      3\n",
       "3          Teef 🐏      725280      1\n",
       "4    Sneaky_Panda      725280      1"
      ]
     },
     "execution_count": 44,
     "metadata": {},
     "output_type": "execute_result"
    }
   ],
   "source": [
    "steam_reviews_VI.head()"
   ]
  },
  {
   "cell_type": "markdown",
   "metadata": {},
   "source": [
    "Necesito que el dataset que tiene la info de los juegos tenga cómo índice el número de id del videojuego. Eso lo voy a obtener con el siguiente código:"
   ]
  },
  {
   "cell_type": "code",
   "execution_count": 45,
   "metadata": {},
   "outputs": [],
   "source": [
    "steam_title = pd.read_csv('steam_games_inx.csv', encoding = \"ISO-8859-1\",index_col = 0, header = 0, usecols = [0,1], names = ['id', 'app_name'])"
   ]
  },
  {
   "cell_type": "code",
   "execution_count": 46,
   "metadata": {},
   "outputs": [
    {
     "data": {
      "text/html": [
       "<div>\n",
       "<style scoped>\n",
       "    .dataframe tbody tr th:only-of-type {\n",
       "        vertical-align: middle;\n",
       "    }\n",
       "\n",
       "    .dataframe tbody tr th {\n",
       "        vertical-align: top;\n",
       "    }\n",
       "\n",
       "    .dataframe thead th {\n",
       "        text-align: right;\n",
       "    }\n",
       "</style>\n",
       "<table border=\"1\" class=\"dataframe\">\n",
       "  <thead>\n",
       "    <tr style=\"text-align: right;\">\n",
       "      <th></th>\n",
       "      <th>app_name</th>\n",
       "    </tr>\n",
       "    <tr>\n",
       "      <th>id</th>\n",
       "      <th></th>\n",
       "    </tr>\n",
       "  </thead>\n",
       "  <tbody>\n",
       "    <tr>\n",
       "      <th>761140</th>\n",
       "      <td>Lost Summoner Kitty</td>\n",
       "    </tr>\n",
       "    <tr>\n",
       "      <th>643980</th>\n",
       "      <td>Ironbound</td>\n",
       "    </tr>\n",
       "    <tr>\n",
       "      <th>670290</th>\n",
       "      <td>Real Pool 3D - Poolians</td>\n",
       "    </tr>\n",
       "    <tr>\n",
       "      <th>767400</th>\n",
       "      <td>å¼¹ç¸äºº2222</td>\n",
       "    </tr>\n",
       "    <tr>\n",
       "      <th>773570</th>\n",
       "      <td>Log Challenge</td>\n",
       "    </tr>\n",
       "  </tbody>\n",
       "</table>\n",
       "</div>"
      ],
      "text/plain": [
       "                       app_name\n",
       "id                             \n",
       "761140      Lost Summoner Kitty\n",
       "643980                Ironbound\n",
       "670290  Real Pool 3D - Poolians\n",
       "767400            å¼¹ç¸äºº2222\n",
       "773570            Log Challenge"
      ]
     },
     "execution_count": 46,
     "metadata": {},
     "output_type": "execute_result"
    }
   ],
   "source": [
    "steam_title.head()"
   ]
  },
  {
   "cell_type": "markdown",
   "metadata": {},
   "source": [
    "Llevo el dataset con los reviews al formato que le gusta a la biblioteca:"
   ]
  },
  {
   "cell_type": "code",
   "execution_count": 47,
   "metadata": {},
   "outputs": [],
   "source": [
    "reader = Reader()"
   ]
  },
  {
   "cell_type": "code",
   "execution_count": 48,
   "metadata": {},
   "outputs": [],
   "source": [
    "data = Dataset.load_from_df(steam_reviews_VI[['username', 'product_id', 'score']], reader)"
   ]
  },
  {
   "cell_type": "markdown",
   "metadata": {},
   "source": [
    "Separamos el dataset en ***trainset*** y ***testset***."
   ]
  },
  {
   "cell_type": "code",
   "execution_count": 49,
   "metadata": {},
   "outputs": [],
   "source": [
    "trainset, testset = train_test_split(data, test_size=.25)"
   ]
  },
  {
   "cell_type": "markdown",
   "metadata": {},
   "source": [
    "Instancio y entreno un algoritmo SVD:"
   ]
  },
  {
   "cell_type": "code",
   "execution_count": 50,
   "metadata": {},
   "outputs": [],
   "source": [
    "from surprise import SVD\n",
    "modelo = SVD()"
   ]
  },
  {
   "cell_type": "code",
   "execution_count": 51,
   "metadata": {},
   "outputs": [
    {
     "name": "stdout",
     "output_type": "stream",
     "text": [
      "Wall time: 42.3 s\n"
     ]
    },
    {
     "data": {
      "text/plain": [
       "<surprise.prediction_algorithms.matrix_factorization.SVD at 0x2ad8d3999d0>"
      ]
     },
     "execution_count": 51,
     "metadata": {},
     "output_type": "execute_result"
    }
   ],
   "source": [
    "%%time\n",
    "modelo.fit(trainset)"
   ]
  },
  {
   "cell_type": "markdown",
   "metadata": {},
   "source": [
    "Y predigo sobre ***testset***."
   ]
  },
  {
   "cell_type": "code",
   "execution_count": 52,
   "metadata": {},
   "outputs": [],
   "source": [
    "predictions = modelo.test(testset)"
   ]
  },
  {
   "cell_type": "markdown",
   "metadata": {},
   "source": [
    "Evaluo el modelo con RMSE:"
   ]
  },
  {
   "cell_type": "code",
   "execution_count": 53,
   "metadata": {},
   "outputs": [
    {
     "name": "stdout",
     "output_type": "stream",
     "text": [
      "RMSE: 1.0638\n"
     ]
    },
    {
     "data": {
      "text/plain": [
       "1.0637619798732563"
      ]
     },
     "execution_count": 53,
     "metadata": {},
     "output_type": "execute_result"
    }
   ],
   "source": [
    "from surprise import accuracy\n",
    "\n",
    "accuracy.rmse(predictions)"
   ]
  },
  {
   "cell_type": "markdown",
   "metadata": {},
   "source": [
    "Ya que la escala es de 1 a 5, considero que un RMSE cercano a 1 es un error bastante bajo."
   ]
  },
  {
   "cell_type": "markdown",
   "metadata": {},
   "source": [
    "Este es el resultado de mi modelo Benchmark."
   ]
  },
  {
   "cell_type": "markdown",
   "metadata": {},
   "source": [
    "### Nuevo Modelo SVD\n",
    "\n",
    "Ya conozco la performance de mi modelo benchmark, ahora voy a cambiar la métrica de calificación para intentar mejorar el modelo.\n",
    "Voy a usar solamente la cantidad de horas jugadas para armar la métrica ***score***."
   ]
  },
  {
   "cell_type": "code",
   "execution_count": 75,
   "metadata": {},
   "outputs": [],
   "source": [
    "steam_reviews_V[\"score\"] = steam_reviews_V[\"hours\"]"
   ]
  },
  {
   "cell_type": "code",
   "execution_count": 76,
   "metadata": {},
   "outputs": [],
   "source": [
    "P20, P40, P60, P80 = steam_reviews_V.score.quantile([0.20, 0.40, 0.60, 0.8])"
   ]
  },
  {
   "cell_type": "code",
   "execution_count": 77,
   "metadata": {},
   "outputs": [],
   "source": [
    "conditions = [\n",
    "    (steam_reviews_V[\"score\"] <= P20),\n",
    "    (steam_reviews_V[\"score\"] > P20) & (steam_reviews_V[\"score\"] <= P40),\n",
    "    (steam_reviews_V[\"score\"] > P40) & (steam_reviews_V[\"score\"] <= P60),\n",
    "    (steam_reviews_V[\"score\"] > P60) & (steam_reviews_V[\"score\"] <= P80),\n",
    "    (steam_reviews_V[\"score\"] > P80)\n",
    "    ]\n",
    "values = [1, 2, 3, 4, 5]\n",
    "\n",
    "steam_reviews_V[\"score\"] = np.select(conditions, (values))"
   ]
  },
  {
   "cell_type": "code",
   "execution_count": 79,
   "metadata": {},
   "outputs": [
    {
     "data": {
      "text/plain": [
       "count    1.134141e+06\n",
       "mean     2.997465e+00\n",
       "std      1.415074e+00\n",
       "min      1.000000e+00\n",
       "25%      2.000000e+00\n",
       "50%      3.000000e+00\n",
       "75%      4.000000e+00\n",
       "max      5.000000e+00\n",
       "Name: score, dtype: float64"
      ]
     },
     "execution_count": 79,
     "metadata": {},
     "output_type": "execute_result"
    }
   ],
   "source": [
    "steam_reviews_V.score.describe()"
   ]
  },
  {
   "cell_type": "code",
   "execution_count": 80,
   "metadata": {},
   "outputs": [],
   "source": [
    "steam_reviews_VII = steam_reviews_V[[\"username\", \"product_id\", \"score\"]]"
   ]
  },
  {
   "cell_type": "code",
   "execution_count": 81,
   "metadata": {},
   "outputs": [],
   "source": [
    "steam_reviews_VII.to_csv('steam_reviews_VII.csv', index= False)"
   ]
  },
  {
   "cell_type": "code",
   "execution_count": 82,
   "metadata": {},
   "outputs": [],
   "source": [
    "steam_reviews_VII = pd.read_csv('steam_reviews_VII.csv')"
   ]
  },
  {
   "cell_type": "markdown",
   "metadata": {},
   "source": [
    "La nueva métrica solo contempla la cantidad de horas jugadas y las clasifica de 1 a 5 de acuerdo al percentil."
   ]
  },
  {
   "cell_type": "markdown",
   "metadata": {},
   "source": [
    "Repito el procedimiento del sistema de recomendación con el alrgoritmo surprise: "
   ]
  },
  {
   "cell_type": "code",
   "execution_count": 84,
   "metadata": {},
   "outputs": [],
   "source": [
    "data = Dataset.load_from_df(steam_reviews_VII[['username', 'product_id', 'score']], reader)"
   ]
  },
  {
   "cell_type": "code",
   "execution_count": 85,
   "metadata": {},
   "outputs": [],
   "source": [
    "trainset, testset = train_test_split(data, test_size=.25)"
   ]
  },
  {
   "cell_type": "code",
   "execution_count": 86,
   "metadata": {},
   "outputs": [],
   "source": [
    "modelo = SVD()"
   ]
  },
  {
   "cell_type": "code",
   "execution_count": 87,
   "metadata": {},
   "outputs": [
    {
     "name": "stdout",
     "output_type": "stream",
     "text": [
      "Wall time: 43.2 s\n"
     ]
    },
    {
     "data": {
      "text/plain": [
       "<surprise.prediction_algorithms.matrix_factorization.SVD at 0x2ad8d399a30>"
      ]
     },
     "execution_count": 87,
     "metadata": {},
     "output_type": "execute_result"
    }
   ],
   "source": [
    "%%time\n",
    "modelo.fit(trainset)"
   ]
  },
  {
   "cell_type": "code",
   "execution_count": 88,
   "metadata": {},
   "outputs": [],
   "source": [
    "predictiones = modelo.test(testset)"
   ]
  },
  {
   "cell_type": "code",
   "execution_count": 89,
   "metadata": {},
   "outputs": [
    {
     "name": "stdout",
     "output_type": "stream",
     "text": [
      "RMSE: 1.0247\n"
     ]
    },
    {
     "data": {
      "text/plain": [
       "1.024723936567871"
      ]
     },
     "execution_count": 89,
     "metadata": {},
     "output_type": "execute_result"
    }
   ],
   "source": [
    "accuracy.rmse(predictiones)"
   ]
  },
  {
   "cell_type": "markdown",
   "metadata": {},
   "source": [
    "### Optimización de Hiperparámetros"
   ]
  },
  {
   "cell_type": "code",
   "execution_count": 90,
   "metadata": {},
   "outputs": [
    {
     "name": "stdout",
     "output_type": "stream",
     "text": [
      "\n",
      "Número de Factores: 50\n",
      "Evaluating RMSE of algorithm SVD on 3 split(s).\n",
      "\n",
      "                  Fold 1  Fold 2  Fold 3  Mean    Std     \n",
      "RMSE (testset)    1.0357  1.0371  1.0340  1.0356  0.0013  \n",
      "Fit time          24.16   24.42   24.18   24.25   0.11    \n",
      "Test time         2.24    2.19    3.32    2.58    0.52    \n",
      "\n",
      "Número de Factores: 80\n",
      "Evaluating RMSE of algorithm SVD on 3 split(s).\n",
      "\n",
      "                  Fold 1  Fold 2  Fold 3  Mean    Std     \n",
      "RMSE (testset)    1.0326  1.0324  1.0343  1.0331  0.0008  \n",
      "Fit time          31.83   32.01   32.01   31.95   0.08    \n",
      "Test time         3.33    3.35    3.37    3.35    0.02    \n",
      "\n",
      "Número de Factores: 130\n",
      "Evaluating RMSE of algorithm SVD on 3 split(s).\n",
      "\n",
      "                  Fold 1  Fold 2  Fold 3  Mean    Std     \n",
      "RMSE (testset)    1.0325  1.0316  1.0327  1.0323  0.0005  \n",
      "Fit time          45.36   45.79   45.49   45.55   0.18    \n",
      "Test time         3.60    3.29    2.23    3.04    0.59    \n",
      "\n",
      "Número de Factores: 180\n",
      "Evaluating RMSE of algorithm SVD on 3 split(s).\n",
      "\n",
      "                  Fold 1  Fold 2  Fold 3  Mean    Std     \n",
      "RMSE (testset)    1.0342  1.0313  1.0287  1.0314  0.0022  \n",
      "Fit time          59.49   59.75   59.00   59.41   0.31    \n",
      "Test time         2.27    3.45    3.38    3.03    0.54    \n",
      "\n",
      "Número de Factores: 256\n",
      "Evaluating RMSE of algorithm SVD on 3 split(s).\n",
      "\n",
      "                  Fold 1  Fold 2  Fold 3  Mean    Std     \n",
      "RMSE (testset)    1.0328  1.0321  1.0309  1.0320  0.0008  \n",
      "Fit time          78.72   78.75   78.84   78.77   0.05    \n",
      "Test time         3.43    3.31    3.39    3.38    0.05    \n",
      "Wall time: 13min 23s\n"
     ]
    }
   ],
   "source": [
    "%%time\n",
    "from surprise.model_selection import cross_validate\n",
    "\n",
    "rmse_test_means = []\n",
    "factores = [50,80,130,180,256]\n",
    "\n",
    "for factor in factores:\n",
    "    print(f'\\nNúmero de Factores: {factor}')\n",
    "    algo = SVD(n_factors=factor)\n",
    "    cv = cross_validate(algo, data, measures=['RMSE'], cv = 3, verbose=True)\n",
    "    rmse_test_means.append(np.mean(cv['test_rmse']))"
   ]
  },
  {
   "cell_type": "code",
   "execution_count": 91,
   "metadata": {},
   "outputs": [
    {
     "data": {
      "image/png": "[encoded data removed]",
      "text/plain": [
       "<Figure size 432x288 with 1 Axes>"
      ]
     },
     "metadata": {},
     "output_type": "display_data"
    }
   ],
   "source": [
    "plt.plot(factores,rmse_test_means,'o-')\n",
    "plt.ylim(0,2)\n",
    "plt.xlim(0,300)\n",
    "plt.xlabel(\"factores\")\n",
    "plt.ylabel(\"rmse\")\n",
    "plt.show()"
   ]
  },
  {
   "cell_type": "code",
   "execution_count": 94,
   "metadata": {},
   "outputs": [
    {
     "name": "stdout",
     "output_type": "stream",
     "text": [
      "Wall time: 27min 32s\n"
     ]
    }
   ],
   "source": [
    "%%time\n",
    "from surprise.model_selection import GridSearchCV\n",
    "\n",
    "param_grid = {'n_factors': [100,150,200],'n_epochs': [5, 10,20], 'lr_all': [0.001, 0.002, 0.005],\n",
    "              'reg_all': [0.002, 0.02, 0.2]}\n",
    "gs = GridSearchCV(SVD, param_grid, measures=['rmse'], cv=3, n_jobs = -1)\n",
    "gs.fit(data)"
   ]
  },
  {
   "cell_type": "code",
   "execution_count": 95,
   "metadata": {},
   "outputs": [
    {
     "name": "stdout",
     "output_type": "stream",
     "text": [
      "1.0319581645562526\n",
      "{'n_factors': 150, 'n_epochs': 20, 'lr_all': 0.005, 'reg_all': 0.02}\n"
     ]
    }
   ],
   "source": [
    "print(gs.best_score['rmse'])\n",
    "print(gs.best_params['rmse'])"
   ]
  },
  {
   "cell_type": "markdown",
   "metadata": {},
   "source": [
    "El modelo benchmark, que uso una métrica de calificación, que combinaba el análisis de sentimientos de las reviews con la cantidad de horas tiene un RMSE de: 1.0638."
   ]
  },
  {
   "cell_type": "markdown",
   "metadata": {},
   "source": [
    "Mientras que el nuevo modelo, que usó una métrica de calificación exclusivamente basada en la cantidad de horas jugadas, tiene un RMSE de: 1.0247 con sus valores por defecto. Pude mejorar el modelo benchmark en un 3.6%.\n",
    "\n",
    "La optimización de hiperperámetros no pudo mejorar el resultado del modelo con valores por defecto de los argumentos.\n",
    "Esto seguramente se debe a la semilla que utiliza para hacer la división Train-Test.\n",
    "\n",
    "Para mejorar aún más el modelo de sistema de recomendación, mi idea es incluir otros features de los videojuegos, cómo el género de videojuego y los diferentes tags que se le asginaron. Esto podría reducir aún más el error del modelo de recomendaciones.\n",
    "Otro camino, es explorar con otros tipos de modelo de la librería ***surprise***, quizas tenga mejores resultados que el modelo ***SVD***."
   ]
  }
 ],
 "metadata": {
  "colab": {
   "collapsed_sections": [],
   "name": "DS_Proyecto_03_SR.ipynb",
   "provenance": []
  },
  "kernelspec": {
   "display_name": "Python 3",
   "language": "python",
   "name": "python3"
  },
  "language_info": {
   "codemirror_mode": {
    "name": "ipython",
    "version": 3
   },
   "file_extension": ".py",
   "mimetype": "text/x-python",
   "name": "python",
   "nbconvert_exporter": "python",
   "pygments_lexer": "ipython3",
   "version": "3.8.5"
  }
 },
 "nbformat": 4,
 "nbformat_minor": 1
}
